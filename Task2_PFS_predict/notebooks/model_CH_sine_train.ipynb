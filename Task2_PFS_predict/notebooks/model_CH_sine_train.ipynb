{
 "cells": [
  {
   "cell_type": "markdown",
   "metadata": {},
   "source": [
    "## Building a model for the MICCAI 2020 HEad and neCK TumOR Task2 [(HECKTOR)](https://www.aicrowd.com/challenges/miccai-2021-hecktor)"
   ]
  },
  {
   "cell_type": "code",
   "execution_count": 95,
   "metadata": {},
   "outputs": [],
   "source": [
    "import os\n",
    "import sys\n",
    "import pathlib\n",
    "import matplotlib.pyplot as plt\n",
    "%matplotlib inline\n",
    "import numpy as np\n",
    "import torch\n",
    "from torch.utils.data import DataLoader\n",
    "import pandas as pd\n",
    "import os\n",
    "os.environ[\"CUDA_DEVICE_ORDER\"]=\"PCI_BUS_ID\"  \n",
    "os.environ[\"CUDA_VISIBLE_DEVICES\"]=\"1\""
   ]
  },
  {
   "cell_type": "code",
   "execution_count": null,
   "metadata": {},
   "outputs": [],
   "source": []
  },
  {
   "cell_type": "code",
   "execution_count": 96,
   "metadata": {},
   "outputs": [],
   "source": [
    "sys.path.append('../src/')\n",
    "import dataset\n",
    "import transforms\n",
    "import losses\n",
    "import metrics\n",
    "import trainer\n",
    "import models\n",
    "from torch.nn import functional as F\n",
    "\n",
    "from data import utils\n"
   ]
  },
  {
   "cell_type": "code",
   "execution_count": 97,
   "metadata": {},
   "outputs": [],
   "source": [
    "import pickle\n",
    "def load_pickle(file: str, mode: str = 'rb'):\n",
    "    with open(file, mode) as f:\n",
    "        a = pickle.load(f)\n",
    "    return a"
   ]
  },
  {
   "cell_type": "code",
   "execution_count": 98,
   "metadata": {},
   "outputs": [
    {
     "data": {
      "text/plain": [
       "[OrderedDict([('train',\n",
       "               array(['CHGJ007', 'CHGJ008', 'CHGJ010', 'CHGJ013', 'CHGJ015', 'CHGJ016',\n",
       "                      'CHGJ017', 'CHGJ018', 'CHGJ025', 'CHGJ026', 'CHGJ028', 'CHGJ029',\n",
       "                      'CHGJ030', 'CHGJ031', 'CHGJ034', 'CHGJ037', 'CHGJ043', 'CHGJ046',\n",
       "                      'CHGJ048', 'CHGJ050', 'CHGJ052', 'CHGJ053', 'CHGJ057', 'CHGJ058',\n",
       "                      'CHGJ065', 'CHGJ066', 'CHGJ069', 'CHGJ070', 'CHGJ071', 'CHGJ072',\n",
       "                      'CHGJ073', 'CHGJ074', 'CHGJ077', 'CHGJ078', 'CHGJ080', 'CHGJ081',\n",
       "                      'CHGJ082', 'CHGJ083', 'CHGJ086', 'CHGJ089', 'CHGJ091', 'CHGJ092',\n",
       "                      'CHMR001', 'CHMR004', 'CHMR011', 'CHMR012', 'CHMR013', 'CHMR014',\n",
       "                      'CHMR016', 'CHMR020', 'CHMR021', 'CHMR023', 'CHMR024', 'CHMR028',\n",
       "                      'CHMR029', 'CHMR030', 'CHMR040', 'CHUM001', 'CHUM002', 'CHUM006',\n",
       "                      'CHUM007', 'CHUM008', 'CHUM011', 'CHUM012', 'CHUM013', 'CHUM014',\n",
       "                      'CHUM015', 'CHUM016', 'CHUM017', 'CHUM018', 'CHUM019', 'CHUM021',\n",
       "                      'CHUM022', 'CHUM023', 'CHUM024', 'CHUM032', 'CHUM033', 'CHUM034',\n",
       "                      'CHUM035', 'CHUM036', 'CHUM037', 'CHUM038', 'CHUM040', 'CHUM041',\n",
       "                      'CHUM043', 'CHUM044', 'CHUM045', 'CHUM046', 'CHUM047', 'CHUM049',\n",
       "                      'CHUM050', 'CHUM051', 'CHUM053', 'CHUM055', 'CHUM056', 'CHUM058',\n",
       "                      'CHUM059', 'CHUM060', 'CHUM061', 'CHUM063', 'CHUM064', 'CHUP001',\n",
       "                      'CHUP003', 'CHUP005', 'CHUP006', 'CHUP008', 'CHUP009', 'CHUP010',\n",
       "                      'CHUP011', 'CHUP013', 'CHUP014', 'CHUP015', 'CHUP016', 'CHUP017',\n",
       "                      'CHUP018', 'CHUP020', 'CHUP021', 'CHUP022', 'CHUP023', 'CHUS003',\n",
       "                      'CHUS004', 'CHUS006', 'CHUS007', 'CHUS008', 'CHUS015', 'CHUS016',\n",
       "                      'CHUS020', 'CHUS022', 'CHUS026', 'CHUS027', 'CHUS028', 'CHUS030',\n",
       "                      'CHUS031', 'CHUS033', 'CHUS035', 'CHUS036', 'CHUS038', 'CHUS040',\n",
       "                      'CHUS042', 'CHUS043', 'CHUS045', 'CHUS046', 'CHUS047', 'CHUS048',\n",
       "                      'CHUS049', 'CHUS050', 'CHUS051', 'CHUS052', 'CHUS053', 'CHUS055',\n",
       "                      'CHUS060', 'CHUS061', 'CHUS064', 'CHUS065', 'CHUS066', 'CHUS067',\n",
       "                      'CHUS068', 'CHUS069', 'CHUS073', 'CHUS074', 'CHUS076', 'CHUS077',\n",
       "                      'CHUS078', 'CHUS080', 'CHUS081', 'CHUS083', 'CHUS085', 'CHUS086',\n",
       "                      'CHUS087', 'CHUS088', 'CHUS089', 'CHUS090', 'CHUS091', 'CHUS094',\n",
       "                      'CHUS096', 'CHUS097', 'CHUS098', 'CHUS100', 'CHUS101'], dtype='<U7')),\n",
       "              ('val',\n",
       "               array(['CHGJ032', 'CHGJ035', 'CHGJ036', 'CHGJ038', 'CHGJ039', 'CHGJ055',\n",
       "                      'CHGJ062', 'CHGJ067', 'CHGJ076', 'CHGJ085', 'CHGJ087', 'CHGJ088',\n",
       "                      'CHGJ090', 'CHMR005', 'CHMR025', 'CHMR034', 'CHUM010', 'CHUM026',\n",
       "                      'CHUM027', 'CHUM029', 'CHUM030', 'CHUM039', 'CHUM042', 'CHUM048',\n",
       "                      'CHUM054', 'CHUM057', 'CHUM062', 'CHUM065', 'CHUP002', 'CHUP004',\n",
       "                      'CHUP007', 'CHUP012', 'CHUP019', 'CHUS005', 'CHUS009', 'CHUS010',\n",
       "                      'CHUS013', 'CHUS019', 'CHUS021', 'CHUS039', 'CHUS041', 'CHUS056',\n",
       "                      'CHUS057', 'CHUS058', 'CHUS095'], dtype='<U7'))]),\n",
       " OrderedDict([('train',\n",
       "               array(['CHGJ007', 'CHGJ008', 'CHGJ013', 'CHGJ015', 'CHGJ016', 'CHGJ017',\n",
       "                      'CHGJ018', 'CHGJ025', 'CHGJ026', 'CHGJ029', 'CHGJ030', 'CHGJ031',\n",
       "                      'CHGJ032', 'CHGJ034', 'CHGJ035', 'CHGJ036', 'CHGJ037', 'CHGJ038',\n",
       "                      'CHGJ039', 'CHGJ043', 'CHGJ046', 'CHGJ048', 'CHGJ052', 'CHGJ055',\n",
       "                      'CHGJ057', 'CHGJ058', 'CHGJ062', 'CHGJ065', 'CHGJ066', 'CHGJ067',\n",
       "                      'CHGJ069', 'CHGJ071', 'CHGJ072', 'CHGJ073', 'CHGJ074', 'CHGJ076',\n",
       "                      'CHGJ077', 'CHGJ080', 'CHGJ082', 'CHGJ083', 'CHGJ085', 'CHGJ087',\n",
       "                      'CHGJ088', 'CHGJ090', 'CHGJ091', 'CHMR005', 'CHMR011', 'CHMR012',\n",
       "                      'CHMR013', 'CHMR016', 'CHMR020', 'CHMR021', 'CHMR023', 'CHMR025',\n",
       "                      'CHMR029', 'CHMR034', 'CHMR040', 'CHUM002', 'CHUM006', 'CHUM007',\n",
       "                      'CHUM008', 'CHUM010', 'CHUM011', 'CHUM012', 'CHUM013', 'CHUM014',\n",
       "                      'CHUM015', 'CHUM018', 'CHUM019', 'CHUM021', 'CHUM023', 'CHUM024',\n",
       "                      'CHUM026', 'CHUM027', 'CHUM029', 'CHUM030', 'CHUM032', 'CHUM033',\n",
       "                      'CHUM034', 'CHUM037', 'CHUM038', 'CHUM039', 'CHUM040', 'CHUM041',\n",
       "                      'CHUM042', 'CHUM043', 'CHUM044', 'CHUM045', 'CHUM048', 'CHUM049',\n",
       "                      'CHUM050', 'CHUM051', 'CHUM053', 'CHUM054', 'CHUM055', 'CHUM056',\n",
       "                      'CHUM057', 'CHUM058', 'CHUM060', 'CHUM061', 'CHUM062', 'CHUM063',\n",
       "                      'CHUM064', 'CHUM065', 'CHUP001', 'CHUP002', 'CHUP003', 'CHUP004',\n",
       "                      'CHUP005', 'CHUP006', 'CHUP007', 'CHUP009', 'CHUP010', 'CHUP012',\n",
       "                      'CHUP013', 'CHUP014', 'CHUP015', 'CHUP017', 'CHUP018', 'CHUP019',\n",
       "                      'CHUP020', 'CHUP021', 'CHUS003', 'CHUS005', 'CHUS006', 'CHUS007',\n",
       "                      'CHUS009', 'CHUS010', 'CHUS013', 'CHUS015', 'CHUS019', 'CHUS020',\n",
       "                      'CHUS021', 'CHUS022', 'CHUS026', 'CHUS027', 'CHUS028', 'CHUS030',\n",
       "                      'CHUS031', 'CHUS033', 'CHUS035', 'CHUS039', 'CHUS040', 'CHUS041',\n",
       "                      'CHUS042', 'CHUS043', 'CHUS045', 'CHUS046', 'CHUS047', 'CHUS048',\n",
       "                      'CHUS049', 'CHUS050', 'CHUS051', 'CHUS052', 'CHUS053', 'CHUS056',\n",
       "                      'CHUS057', 'CHUS058', 'CHUS064', 'CHUS066', 'CHUS067', 'CHUS068',\n",
       "                      'CHUS069', 'CHUS073', 'CHUS074', 'CHUS076', 'CHUS078', 'CHUS080',\n",
       "                      'CHUS081', 'CHUS083', 'CHUS086', 'CHUS087', 'CHUS089', 'CHUS091',\n",
       "                      'CHUS094', 'CHUS095', 'CHUS096', 'CHUS100', 'CHUS101'], dtype='<U7')),\n",
       "              ('val',\n",
       "               array(['CHGJ010', 'CHGJ028', 'CHGJ050', 'CHGJ053', 'CHGJ070', 'CHGJ078',\n",
       "                      'CHGJ081', 'CHGJ086', 'CHGJ089', 'CHGJ092', 'CHMR001', 'CHMR004',\n",
       "                      'CHMR014', 'CHMR024', 'CHMR028', 'CHMR030', 'CHUM001', 'CHUM016',\n",
       "                      'CHUM017', 'CHUM022', 'CHUM035', 'CHUM036', 'CHUM046', 'CHUM047',\n",
       "                      'CHUM059', 'CHUP008', 'CHUP011', 'CHUP016', 'CHUP022', 'CHUP023',\n",
       "                      'CHUS004', 'CHUS008', 'CHUS016', 'CHUS036', 'CHUS038', 'CHUS055',\n",
       "                      'CHUS060', 'CHUS061', 'CHUS065', 'CHUS077', 'CHUS085', 'CHUS088',\n",
       "                      'CHUS090', 'CHUS097', 'CHUS098'], dtype='<U7'))]),\n",
       " OrderedDict([('train',\n",
       "               array(['CHGJ007', 'CHGJ008', 'CHGJ010', 'CHGJ013', 'CHGJ016', 'CHGJ017',\n",
       "                      'CHGJ018', 'CHGJ028', 'CHGJ029', 'CHGJ030', 'CHGJ032', 'CHGJ035',\n",
       "                      'CHGJ036', 'CHGJ038', 'CHGJ039', 'CHGJ043', 'CHGJ046', 'CHGJ048',\n",
       "                      'CHGJ050', 'CHGJ053', 'CHGJ055', 'CHGJ058', 'CHGJ062', 'CHGJ065',\n",
       "                      'CHGJ066', 'CHGJ067', 'CHGJ069', 'CHGJ070', 'CHGJ071', 'CHGJ072',\n",
       "                      'CHGJ073', 'CHGJ076', 'CHGJ077', 'CHGJ078', 'CHGJ080', 'CHGJ081',\n",
       "                      'CHGJ083', 'CHGJ085', 'CHGJ086', 'CHGJ087', 'CHGJ088', 'CHGJ089',\n",
       "                      'CHGJ090', 'CHGJ091', 'CHGJ092', 'CHMR001', 'CHMR004', 'CHMR005',\n",
       "                      'CHMR011', 'CHMR012', 'CHMR014', 'CHMR016', 'CHMR020', 'CHMR021',\n",
       "                      'CHMR024', 'CHMR025', 'CHMR028', 'CHMR030', 'CHMR034', 'CHMR040',\n",
       "                      'CHUM001', 'CHUM002', 'CHUM006', 'CHUM007', 'CHUM008', 'CHUM010',\n",
       "                      'CHUM012', 'CHUM013', 'CHUM014', 'CHUM015', 'CHUM016', 'CHUM017',\n",
       "                      'CHUM019', 'CHUM021', 'CHUM022', 'CHUM024', 'CHUM026', 'CHUM027',\n",
       "                      'CHUM029', 'CHUM030', 'CHUM033', 'CHUM035', 'CHUM036', 'CHUM037',\n",
       "                      'CHUM039', 'CHUM041', 'CHUM042', 'CHUM043', 'CHUM044', 'CHUM046',\n",
       "                      'CHUM047', 'CHUM048', 'CHUM049', 'CHUM050', 'CHUM051', 'CHUM054',\n",
       "                      'CHUM055', 'CHUM056', 'CHUM057', 'CHUM059', 'CHUM060', 'CHUM061',\n",
       "                      'CHUM062', 'CHUM063', 'CHUM065', 'CHUP001', 'CHUP002', 'CHUP003',\n",
       "                      'CHUP004', 'CHUP005', 'CHUP007', 'CHUP008', 'CHUP010', 'CHUP011',\n",
       "                      'CHUP012', 'CHUP014', 'CHUP015', 'CHUP016', 'CHUP018', 'CHUP019',\n",
       "                      'CHUP021', 'CHUP022', 'CHUP023', 'CHUS004', 'CHUS005', 'CHUS006',\n",
       "                      'CHUS007', 'CHUS008', 'CHUS009', 'CHUS010', 'CHUS013', 'CHUS016',\n",
       "                      'CHUS019', 'CHUS020', 'CHUS021', 'CHUS022', 'CHUS026', 'CHUS028',\n",
       "                      'CHUS030', 'CHUS033', 'CHUS036', 'CHUS038', 'CHUS039', 'CHUS041',\n",
       "                      'CHUS042', 'CHUS043', 'CHUS045', 'CHUS047', 'CHUS048', 'CHUS049',\n",
       "                      'CHUS050', 'CHUS053', 'CHUS055', 'CHUS056', 'CHUS057', 'CHUS058',\n",
       "                      'CHUS060', 'CHUS061', 'CHUS065', 'CHUS066', 'CHUS067', 'CHUS068',\n",
       "                      'CHUS069', 'CHUS073', 'CHUS077', 'CHUS078', 'CHUS083', 'CHUS085',\n",
       "                      'CHUS086', 'CHUS087', 'CHUS088', 'CHUS089', 'CHUS090', 'CHUS091',\n",
       "                      'CHUS094', 'CHUS095', 'CHUS097', 'CHUS098', 'CHUS101'], dtype='<U7')),\n",
       "              ('val',\n",
       "               array(['CHGJ015', 'CHGJ025', 'CHGJ026', 'CHGJ031', 'CHGJ034', 'CHGJ037',\n",
       "                      'CHGJ052', 'CHGJ057', 'CHGJ074', 'CHGJ082', 'CHMR013', 'CHMR023',\n",
       "                      'CHMR029', 'CHUM011', 'CHUM018', 'CHUM023', 'CHUM032', 'CHUM034',\n",
       "                      'CHUM038', 'CHUM040', 'CHUM045', 'CHUM053', 'CHUM058', 'CHUM064',\n",
       "                      'CHUP006', 'CHUP009', 'CHUP013', 'CHUP017', 'CHUP020', 'CHUS003',\n",
       "                      'CHUS015', 'CHUS027', 'CHUS031', 'CHUS035', 'CHUS040', 'CHUS046',\n",
       "                      'CHUS051', 'CHUS052', 'CHUS064', 'CHUS074', 'CHUS076', 'CHUS080',\n",
       "                      'CHUS081', 'CHUS096', 'CHUS100'], dtype='<U7'))]),\n",
       " OrderedDict([('train',\n",
       "               array(['CHGJ008', 'CHGJ010', 'CHGJ015', 'CHGJ018', 'CHGJ025', 'CHGJ026',\n",
       "                      'CHGJ028', 'CHGJ029', 'CHGJ031', 'CHGJ032', 'CHGJ034', 'CHGJ035',\n",
       "                      'CHGJ036', 'CHGJ037', 'CHGJ038', 'CHGJ039', 'CHGJ048', 'CHGJ050',\n",
       "                      'CHGJ052', 'CHGJ053', 'CHGJ055', 'CHGJ057', 'CHGJ058', 'CHGJ062',\n",
       "                      'CHGJ065', 'CHGJ067', 'CHGJ069', 'CHGJ070', 'CHGJ071', 'CHGJ074',\n",
       "                      'CHGJ076', 'CHGJ078', 'CHGJ080', 'CHGJ081', 'CHGJ082', 'CHGJ085',\n",
       "                      'CHGJ086', 'CHGJ087', 'CHGJ088', 'CHGJ089', 'CHGJ090', 'CHGJ092',\n",
       "                      'CHMR001', 'CHMR004', 'CHMR005', 'CHMR012', 'CHMR013', 'CHMR014',\n",
       "                      'CHMR021', 'CHMR023', 'CHMR024', 'CHMR025', 'CHMR028', 'CHMR029',\n",
       "                      'CHMR030', 'CHMR034', 'CHUM001', 'CHUM006', 'CHUM008', 'CHUM010',\n",
       "                      'CHUM011', 'CHUM013', 'CHUM016', 'CHUM017', 'CHUM018', 'CHUM019',\n",
       "                      'CHUM022', 'CHUM023', 'CHUM024', 'CHUM026', 'CHUM027', 'CHUM029',\n",
       "                      'CHUM030', 'CHUM032', 'CHUM033', 'CHUM034', 'CHUM035', 'CHUM036',\n",
       "                      'CHUM037', 'CHUM038', 'CHUM039', 'CHUM040', 'CHUM041', 'CHUM042',\n",
       "                      'CHUM045', 'CHUM046', 'CHUM047', 'CHUM048', 'CHUM049', 'CHUM050',\n",
       "                      'CHUM051', 'CHUM053', 'CHUM054', 'CHUM055', 'CHUM056', 'CHUM057',\n",
       "                      'CHUM058', 'CHUM059', 'CHUM061', 'CHUM062', 'CHUM063', 'CHUM064',\n",
       "                      'CHUM065', 'CHUP001', 'CHUP002', 'CHUP003', 'CHUP004', 'CHUP005',\n",
       "                      'CHUP006', 'CHUP007', 'CHUP008', 'CHUP009', 'CHUP010', 'CHUP011',\n",
       "                      'CHUP012', 'CHUP013', 'CHUP014', 'CHUP015', 'CHUP016', 'CHUP017',\n",
       "                      'CHUP019', 'CHUP020', 'CHUP022', 'CHUP023', 'CHUS003', 'CHUS004',\n",
       "                      'CHUS005', 'CHUS008', 'CHUS009', 'CHUS010', 'CHUS013', 'CHUS015',\n",
       "                      'CHUS016', 'CHUS019', 'CHUS020', 'CHUS021', 'CHUS022', 'CHUS027',\n",
       "                      'CHUS028', 'CHUS031', 'CHUS035', 'CHUS036', 'CHUS038', 'CHUS039',\n",
       "                      'CHUS040', 'CHUS041', 'CHUS046', 'CHUS047', 'CHUS048', 'CHUS051',\n",
       "                      'CHUS052', 'CHUS053', 'CHUS055', 'CHUS056', 'CHUS057', 'CHUS058',\n",
       "                      'CHUS060', 'CHUS061', 'CHUS064', 'CHUS065', 'CHUS069', 'CHUS074',\n",
       "                      'CHUS076', 'CHUS077', 'CHUS080', 'CHUS081', 'CHUS083', 'CHUS085',\n",
       "                      'CHUS086', 'CHUS088', 'CHUS089', 'CHUS090', 'CHUS091', 'CHUS095',\n",
       "                      'CHUS096', 'CHUS097', 'CHUS098', 'CHUS100', 'CHUS101'], dtype='<U7')),\n",
       "              ('val',\n",
       "               array(['CHGJ007', 'CHGJ013', 'CHGJ016', 'CHGJ017', 'CHGJ030', 'CHGJ043',\n",
       "                      'CHGJ046', 'CHGJ066', 'CHGJ072', 'CHGJ073', 'CHGJ077', 'CHGJ083',\n",
       "                      'CHGJ091', 'CHMR011', 'CHMR016', 'CHMR020', 'CHMR040', 'CHUM002',\n",
       "                      'CHUM007', 'CHUM012', 'CHUM014', 'CHUM015', 'CHUM021', 'CHUM043',\n",
       "                      'CHUM044', 'CHUM060', 'CHUP018', 'CHUP021', 'CHUS006', 'CHUS007',\n",
       "                      'CHUS026', 'CHUS030', 'CHUS033', 'CHUS042', 'CHUS043', 'CHUS045',\n",
       "                      'CHUS049', 'CHUS050', 'CHUS066', 'CHUS067', 'CHUS068', 'CHUS073',\n",
       "                      'CHUS078', 'CHUS087', 'CHUS094'], dtype='<U7'))]),\n",
       " OrderedDict([('train',\n",
       "               array(['CHGJ007', 'CHGJ010', 'CHGJ013', 'CHGJ015', 'CHGJ016', 'CHGJ017',\n",
       "                      'CHGJ025', 'CHGJ026', 'CHGJ028', 'CHGJ030', 'CHGJ031', 'CHGJ032',\n",
       "                      'CHGJ034', 'CHGJ035', 'CHGJ036', 'CHGJ037', 'CHGJ038', 'CHGJ039',\n",
       "                      'CHGJ043', 'CHGJ046', 'CHGJ050', 'CHGJ052', 'CHGJ053', 'CHGJ055',\n",
       "                      'CHGJ057', 'CHGJ062', 'CHGJ066', 'CHGJ067', 'CHGJ070', 'CHGJ072',\n",
       "                      'CHGJ073', 'CHGJ074', 'CHGJ076', 'CHGJ077', 'CHGJ078', 'CHGJ081',\n",
       "                      'CHGJ082', 'CHGJ083', 'CHGJ085', 'CHGJ086', 'CHGJ087', 'CHGJ088',\n",
       "                      'CHGJ089', 'CHGJ090', 'CHGJ091', 'CHGJ092', 'CHMR001', 'CHMR004',\n",
       "                      'CHMR005', 'CHMR011', 'CHMR013', 'CHMR014', 'CHMR016', 'CHMR020',\n",
       "                      'CHMR023', 'CHMR024', 'CHMR025', 'CHMR028', 'CHMR029', 'CHMR030',\n",
       "                      'CHMR034', 'CHMR040', 'CHUM001', 'CHUM002', 'CHUM007', 'CHUM010',\n",
       "                      'CHUM011', 'CHUM012', 'CHUM014', 'CHUM015', 'CHUM016', 'CHUM017',\n",
       "                      'CHUM018', 'CHUM021', 'CHUM022', 'CHUM023', 'CHUM026', 'CHUM027',\n",
       "                      'CHUM029', 'CHUM030', 'CHUM032', 'CHUM034', 'CHUM035', 'CHUM036',\n",
       "                      'CHUM038', 'CHUM039', 'CHUM040', 'CHUM042', 'CHUM043', 'CHUM044',\n",
       "                      'CHUM045', 'CHUM046', 'CHUM047', 'CHUM048', 'CHUM053', 'CHUM054',\n",
       "                      'CHUM057', 'CHUM058', 'CHUM059', 'CHUM060', 'CHUM062', 'CHUM064',\n",
       "                      'CHUM065', 'CHUP002', 'CHUP004', 'CHUP006', 'CHUP007', 'CHUP008',\n",
       "                      'CHUP009', 'CHUP011', 'CHUP012', 'CHUP013', 'CHUP016', 'CHUP017',\n",
       "                      'CHUP018', 'CHUP019', 'CHUP020', 'CHUP021', 'CHUP022', 'CHUP023',\n",
       "                      'CHUS003', 'CHUS004', 'CHUS005', 'CHUS006', 'CHUS007', 'CHUS008',\n",
       "                      'CHUS009', 'CHUS010', 'CHUS013', 'CHUS015', 'CHUS016', 'CHUS019',\n",
       "                      'CHUS021', 'CHUS026', 'CHUS027', 'CHUS030', 'CHUS031', 'CHUS033',\n",
       "                      'CHUS035', 'CHUS036', 'CHUS038', 'CHUS039', 'CHUS040', 'CHUS041',\n",
       "                      'CHUS042', 'CHUS043', 'CHUS045', 'CHUS046', 'CHUS049', 'CHUS050',\n",
       "                      'CHUS051', 'CHUS052', 'CHUS055', 'CHUS056', 'CHUS057', 'CHUS058',\n",
       "                      'CHUS060', 'CHUS061', 'CHUS064', 'CHUS065', 'CHUS066', 'CHUS067',\n",
       "                      'CHUS068', 'CHUS073', 'CHUS074', 'CHUS076', 'CHUS077', 'CHUS078',\n",
       "                      'CHUS080', 'CHUS081', 'CHUS085', 'CHUS087', 'CHUS088', 'CHUS090',\n",
       "                      'CHUS094', 'CHUS095', 'CHUS096', 'CHUS097', 'CHUS098', 'CHUS100'],\n",
       "                     dtype='<U7')),\n",
       "              ('val',\n",
       "               array(['CHGJ008', 'CHGJ018', 'CHGJ029', 'CHGJ048', 'CHGJ058', 'CHGJ065',\n",
       "                      'CHGJ069', 'CHGJ071', 'CHGJ080', 'CHMR012', 'CHMR021', 'CHUM006',\n",
       "                      'CHUM008', 'CHUM013', 'CHUM019', 'CHUM024', 'CHUM033', 'CHUM037',\n",
       "                      'CHUM041', 'CHUM049', 'CHUM050', 'CHUM051', 'CHUM055', 'CHUM056',\n",
       "                      'CHUM061', 'CHUM063', 'CHUP001', 'CHUP003', 'CHUP005', 'CHUP010',\n",
       "                      'CHUP014', 'CHUP015', 'CHUS020', 'CHUS022', 'CHUS028', 'CHUS047',\n",
       "                      'CHUS048', 'CHUS053', 'CHUS069', 'CHUS083', 'CHUS086', 'CHUS089',\n",
       "                      'CHUS091', 'CHUS101'], dtype='<U7'))])]"
      ]
     },
     "execution_count": 98,
     "metadata": {},
     "output_type": "execute_result"
    }
   ],
   "source": [
    "train_val_split = load_pickle('/home/sysgen/gitlab/HNSCC-ct-pet-tumor-segmentation/task2_PFS_predict/src/data/nnUNet_splits/splits_final.pkl')\n",
    "train_val_split"
   ]
  },
  {
   "cell_type": "code",
   "execution_count": 99,
   "metadata": {},
   "outputs": [],
   "source": [
    "fold = 4"
   ]
  },
  {
   "cell_type": "markdown",
   "metadata": {},
   "source": [
    "**The path to the directory with preprocessed (resampled and cropped) images (see notebooks/make_dataset.ipynb for details):**"
   ]
  },
  {
   "cell_type": "code",
   "execution_count": 100,
   "metadata": {},
   "outputs": [],
   "source": [
    "path_to_data = pathlib.Path('/mnt/faststorage/jintao/HNSCC/hecktor2021_train/resampled/')"
   ]
  },
  {
   "cell_type": "markdown",
   "metadata": {},
   "source": [
    "**Get paths to all files in the dataset:**"
   ]
  },
  {
   "cell_type": "code",
   "execution_count": 101,
   "metadata": {},
   "outputs": [
    {
     "name": "stdout",
     "output_type": "stream",
     "text": [
      "path_to_imgs: /mnt/faststorage/jintao/HNSCC/hecktor2021_train/resampled\n",
      "patients: ['CHUM047', 'CHUP023', 'CHMR028', 'CHMR034', 'CHUM029', 'CHGJ070', 'CHUM048', 'CHMR021', 'CHMR013', 'CHUS081', 'CHUM035', 'CHUM046', 'CHUM042', 'CHUM013', 'CHGJ043', 'CHUS061', 'CHGJ018', 'CHUS010', 'CHUM061', 'CHMR029', 'CHGJ071', 'CHUM019', 'CHUM062', 'CHGJ081', 'CHUS021', 'CHUP022', 'CHGJ062', 'CHUS035', 'CHGJ048', 'CHMR014', 'CHUS008', 'CHUP013', 'CHGJ013', 'CHGJ086', 'CHGJ091', 'CHUS077', 'CHUS045', 'CHUS089', 'CHUS036', 'CHUS028', 'CHUS027', 'CHUM050', 'CHGJ032', 'CHUS095', 'CHGJ039', 'CHUS043', 'CHUM032', 'CHUS020', 'CHUS080', 'CHUM008', 'CHUM063', 'CHUS050', 'CHGJ030', 'CHUS033', 'CHUS019', 'CHUM040', 'CHUS088', 'CHUS016', 'CHGJ092', 'CHGJ082', 'CHUS038', 'CHGJ074', 'CHUP002', 'CHUM023', 'CHGJ073', 'CHGJ025', 'CHUS009', 'CHUM033', 'CHGJ069', 'CHUM059', 'CHGJ038', 'CHUP008', 'CHGJ055', 'CHUS097', 'CHUM044', 'CHUM010', 'CHGJ058', 'CHUS100', 'CHGJ007', 'CHMR040', 'CHUP014', 'CHUS065', 'CHUP019', 'CHUS076', 'CHUP007', 'CHUP018', 'CHGJ017', 'CHUM057', 'CHUS048', 'CHMR030', 'CHUS030', 'CHUS042', 'CHUP006', 'CHGJ036', 'CHGJ037', 'CHGJ076', 'CHGJ053', 'CHUM043', 'CHGJ067', 'CHUM064', 'CHUP003', 'CHGJ016', 'CHGJ072', 'CHUS056', 'CHMR011', 'CHUS003', 'CHUM027', 'CHGJ077', 'CHMR004', 'CHUS015', 'CHUP001', 'CHUS049', 'CHUS069', 'CHUM026', 'CHUS067', 'CHUS083', 'CHUS058', 'CHGJ065', 'CHUP004', 'CHUS055', 'CHUS094', 'CHGJ035', 'CHUS087', 'CHUM011', 'CHUS060', 'CHUS068', 'CHUM060', 'CHUS057', 'CHUM021', 'CHGJ031', 'CHUM030', 'CHGJ010', 'CHUM038', 'CHUS039', 'CHUM058', 'CHUP012', 'CHUM049', 'CHUM036', 'CHUS101', 'CHUS096', 'CHUM054', 'CHUS066', 'CHUP009', 'CHUS041', 'CHMR024', 'CHUS053', 'CHGJ026', 'CHUM001', 'CHUS091', 'CHGJ046', 'CHUM022', 'CHUS013', 'CHGJ066', 'CHUM041', 'CHGJ050', 'CHUS007', 'CHUP010', 'CHUS004', 'CHGJ080', 'CHUP005', 'CHGJ052', 'CHUM017', 'CHUS086', 'CHUS051', 'CHGJ090', 'CHGJ085', 'CHUM051', 'CHUS064', 'CHUM056', 'CHUM065', 'CHUM034', 'CHUM006', 'CHUM014', 'CHUP015', 'CHMR005', 'CHUS022', 'CHMR001', 'CHUS073', 'CHMR025', 'CHGJ015', 'CHUS085', 'CHMR020', 'CHUS078', 'CHGJ034', 'CHGJ088', 'CHMR023', 'CHGJ089', 'CHUM039', 'CHGJ078', 'CHUS006', 'CHUM015', 'CHUS026', 'CHGJ083', 'CHUM002', 'CHUS090', 'CHMR012', 'CHGJ028', 'CHMR016', 'CHUM045', 'CHUM037', 'CHGJ029', 'CHUP016', 'CHUM024', 'CHUS047', 'CHUP011', 'CHUS074', 'CHUM053', 'CHUP020', 'CHUS031', 'CHUM007', 'CHUM016', 'CHUS098', 'CHUM055', 'CHUP017', 'CHUM018', 'CHUP021', 'CHUS052', 'CHUS005', 'CHUS046', 'CHUM012', 'CHUS040', 'CHGJ008', 'CHGJ087', 'CHGJ057']\n"
     ]
    }
   ],
   "source": [
    "all_paths = utils.get_paths_to_patient_files(path_to_imgs=path_to_data, append_mask=True, get_sin=True)"
   ]
  },
  {
   "cell_type": "code",
   "execution_count": 102,
   "metadata": {},
   "outputs": [
    {
     "data": {
      "text/plain": [
       "(PosixPath('/mnt/faststorage/jintao/HNSCC/hecktor2021_train/resampled/CHUM047_ct.nii.gz'),\n",
       " PosixPath('/mnt/faststorage/jintao/HNSCC/hecktor2021_train/resampled/CHUM047_ptsin.nii.gz'),\n",
       " PosixPath('/mnt/faststorage/jintao/HNSCC/hecktor2021_train/resampled/CHUM047_gtvt.nii.gz'))"
      ]
     },
     "execution_count": 102,
     "metadata": {},
     "output_type": "execute_result"
    }
   ],
   "source": [
    "# paths for the first patient\n",
    "all_paths[0]"
   ]
  },
  {
   "cell_type": "code",
   "execution_count": 103,
   "metadata": {},
   "outputs": [
    {
     "name": "stdout",
     "output_type": "stream",
     "text": [
      "Total number of patients: 224\n"
     ]
    }
   ],
   "source": [
    "print(f'Total number of patients: {len(all_paths)}')"
   ]
  },
  {
   "cell_type": "markdown",
   "metadata": {},
   "source": [
    "**Split all patients into train and validation folds using IDs saved in pkl files. There are four splits in total.**"
   ]
  },
  {
   "cell_type": "code",
   "execution_count": 104,
   "metadata": {},
   "outputs": [],
   "source": [
    "# split 0\n",
    "\n",
    "#path_to_pkl = '../src/data/splits/train_val_split_0.pkl'\n",
    "path_to_pkl = '../src/data/nnUNet_splits/splits_final.pkl'\n",
    "path_to_pkl = '/mnt/faststorage/jintao/nnUNet/nnUNet_preprocessed/Task229_hecktor_base_focal/splits_final.pkl'\n",
    "path_to_PFS_csv = pathlib.Path('/mnt/faststorage/jintao/HNSCC/hecktor2021_train/hecktor2021_patient_endpoint_training.csv')\n",
    "PFS_df = pd.read_csv(path_to_PFS_csv)"
   ]
  },
  {
   "cell_type": "code",
   "execution_count": 105,
   "metadata": {},
   "outputs": [
    {
     "name": "stdout",
     "output_type": "stream",
     "text": [
      "1223.84375 601.9005084839426\n"
     ]
    }
   ],
   "source": [
    "mean = PFS_df['Progression free survival'].mean()\n",
    "std = PFS_df['Progression free survival'].std()\n",
    "print(mean, std)"
   ]
  },
  {
   "cell_type": "code",
   "execution_count": 106,
   "metadata": {},
   "outputs": [],
   "source": [
    "#train_paths, val_paths = utils.get_train_val_paths(all_paths=all_paths, path_to_train_val_pkl=path_to_pkl)\n",
    "train_paths, val_paths = utils.get_nnUnet_train_val_paths(all_paths=all_paths, path_to_train_val_pkl=path_to_pkl, fold=fold)\n"
   ]
  },
  {
   "cell_type": "code",
   "execution_count": 107,
   "metadata": {},
   "outputs": [
    {
     "data": {
      "text/plain": [
       "[(PosixPath('/mnt/faststorage/jintao/HNSCC/hecktor2021_train/resampled/CHUM047_ct.nii.gz'),\n",
       "  PosixPath('/mnt/faststorage/jintao/HNSCC/hecktor2021_train/resampled/CHUM047_ptsin.nii.gz'),\n",
       "  PosixPath('/mnt/faststorage/jintao/HNSCC/hecktor2021_train/resampled/CHUM047_gtvt.nii.gz')),\n",
       " (PosixPath('/mnt/faststorage/jintao/HNSCC/hecktor2021_train/resampled/CHUP023_ct.nii.gz'),\n",
       "  PosixPath('/mnt/faststorage/jintao/HNSCC/hecktor2021_train/resampled/CHUP023_ptsin.nii.gz'),\n",
       "  PosixPath('/mnt/faststorage/jintao/HNSCC/hecktor2021_train/resampled/CHUP023_gtvt.nii.gz')),\n",
       " (PosixPath('/mnt/faststorage/jintao/HNSCC/hecktor2021_train/resampled/CHMR028_ct.nii.gz'),\n",
       "  PosixPath('/mnt/faststorage/jintao/HNSCC/hecktor2021_train/resampled/CHMR028_ptsin.nii.gz'),\n",
       "  PosixPath('/mnt/faststorage/jintao/HNSCC/hecktor2021_train/resampled/CHMR028_gtvt.nii.gz')),\n",
       " (PosixPath('/mnt/faststorage/jintao/HNSCC/hecktor2021_train/resampled/CHMR034_ct.nii.gz'),\n",
       "  PosixPath('/mnt/faststorage/jintao/HNSCC/hecktor2021_train/resampled/CHMR034_ptsin.nii.gz'),\n",
       "  PosixPath('/mnt/faststorage/jintao/HNSCC/hecktor2021_train/resampled/CHMR034_gtvt.nii.gz')),\n",
       " (PosixPath('/mnt/faststorage/jintao/HNSCC/hecktor2021_train/resampled/CHUM029_ct.nii.gz'),\n",
       "  PosixPath('/mnt/faststorage/jintao/HNSCC/hecktor2021_train/resampled/CHUM029_ptsin.nii.gz'),\n",
       "  PosixPath('/mnt/faststorage/jintao/HNSCC/hecktor2021_train/resampled/CHUM029_gtvt.nii.gz')),\n",
       " (PosixPath('/mnt/faststorage/jintao/HNSCC/hecktor2021_train/resampled/CHGJ070_ct.nii.gz'),\n",
       "  PosixPath('/mnt/faststorage/jintao/HNSCC/hecktor2021_train/resampled/CHGJ070_ptsin.nii.gz'),\n",
       "  PosixPath('/mnt/faststorage/jintao/HNSCC/hecktor2021_train/resampled/CHGJ070_gtvt.nii.gz')),\n",
       " (PosixPath('/mnt/faststorage/jintao/HNSCC/hecktor2021_train/resampled/CHUM048_ct.nii.gz'),\n",
       "  PosixPath('/mnt/faststorage/jintao/HNSCC/hecktor2021_train/resampled/CHUM048_ptsin.nii.gz'),\n",
       "  PosixPath('/mnt/faststorage/jintao/HNSCC/hecktor2021_train/resampled/CHUM048_gtvt.nii.gz')),\n",
       " (PosixPath('/mnt/faststorage/jintao/HNSCC/hecktor2021_train/resampled/CHMR013_ct.nii.gz'),\n",
       "  PosixPath('/mnt/faststorage/jintao/HNSCC/hecktor2021_train/resampled/CHMR013_ptsin.nii.gz'),\n",
       "  PosixPath('/mnt/faststorage/jintao/HNSCC/hecktor2021_train/resampled/CHMR013_gtvt.nii.gz')),\n",
       " (PosixPath('/mnt/faststorage/jintao/HNSCC/hecktor2021_train/resampled/CHUS081_ct.nii.gz'),\n",
       "  PosixPath('/mnt/faststorage/jintao/HNSCC/hecktor2021_train/resampled/CHUS081_ptsin.nii.gz'),\n",
       "  PosixPath('/mnt/faststorage/jintao/HNSCC/hecktor2021_train/resampled/CHUS081_gtvt.nii.gz')),\n",
       " (PosixPath('/mnt/faststorage/jintao/HNSCC/hecktor2021_train/resampled/CHUM035_ct.nii.gz'),\n",
       "  PosixPath('/mnt/faststorage/jintao/HNSCC/hecktor2021_train/resampled/CHUM035_ptsin.nii.gz'),\n",
       "  PosixPath('/mnt/faststorage/jintao/HNSCC/hecktor2021_train/resampled/CHUM035_gtvt.nii.gz')),\n",
       " (PosixPath('/mnt/faststorage/jintao/HNSCC/hecktor2021_train/resampled/CHUM046_ct.nii.gz'),\n",
       "  PosixPath('/mnt/faststorage/jintao/HNSCC/hecktor2021_train/resampled/CHUM046_ptsin.nii.gz'),\n",
       "  PosixPath('/mnt/faststorage/jintao/HNSCC/hecktor2021_train/resampled/CHUM046_gtvt.nii.gz')),\n",
       " (PosixPath('/mnt/faststorage/jintao/HNSCC/hecktor2021_train/resampled/CHUM042_ct.nii.gz'),\n",
       "  PosixPath('/mnt/faststorage/jintao/HNSCC/hecktor2021_train/resampled/CHUM042_ptsin.nii.gz'),\n",
       "  PosixPath('/mnt/faststorage/jintao/HNSCC/hecktor2021_train/resampled/CHUM042_gtvt.nii.gz')),\n",
       " (PosixPath('/mnt/faststorage/jintao/HNSCC/hecktor2021_train/resampled/CHGJ043_ct.nii.gz'),\n",
       "  PosixPath('/mnt/faststorage/jintao/HNSCC/hecktor2021_train/resampled/CHGJ043_ptsin.nii.gz'),\n",
       "  PosixPath('/mnt/faststorage/jintao/HNSCC/hecktor2021_train/resampled/CHGJ043_gtvt.nii.gz')),\n",
       " (PosixPath('/mnt/faststorage/jintao/HNSCC/hecktor2021_train/resampled/CHUS061_ct.nii.gz'),\n",
       "  PosixPath('/mnt/faststorage/jintao/HNSCC/hecktor2021_train/resampled/CHUS061_ptsin.nii.gz'),\n",
       "  PosixPath('/mnt/faststorage/jintao/HNSCC/hecktor2021_train/resampled/CHUS061_gtvt.nii.gz')),\n",
       " (PosixPath('/mnt/faststorage/jintao/HNSCC/hecktor2021_train/resampled/CHUS010_ct.nii.gz'),\n",
       "  PosixPath('/mnt/faststorage/jintao/HNSCC/hecktor2021_train/resampled/CHUS010_ptsin.nii.gz'),\n",
       "  PosixPath('/mnt/faststorage/jintao/HNSCC/hecktor2021_train/resampled/CHUS010_gtvt.nii.gz')),\n",
       " (PosixPath('/mnt/faststorage/jintao/HNSCC/hecktor2021_train/resampled/CHMR029_ct.nii.gz'),\n",
       "  PosixPath('/mnt/faststorage/jintao/HNSCC/hecktor2021_train/resampled/CHMR029_ptsin.nii.gz'),\n",
       "  PosixPath('/mnt/faststorage/jintao/HNSCC/hecktor2021_train/resampled/CHMR029_gtvt.nii.gz')),\n",
       " (PosixPath('/mnt/faststorage/jintao/HNSCC/hecktor2021_train/resampled/CHUM062_ct.nii.gz'),\n",
       "  PosixPath('/mnt/faststorage/jintao/HNSCC/hecktor2021_train/resampled/CHUM062_ptsin.nii.gz'),\n",
       "  PosixPath('/mnt/faststorage/jintao/HNSCC/hecktor2021_train/resampled/CHUM062_gtvt.nii.gz')),\n",
       " (PosixPath('/mnt/faststorage/jintao/HNSCC/hecktor2021_train/resampled/CHGJ081_ct.nii.gz'),\n",
       "  PosixPath('/mnt/faststorage/jintao/HNSCC/hecktor2021_train/resampled/CHGJ081_ptsin.nii.gz'),\n",
       "  PosixPath('/mnt/faststorage/jintao/HNSCC/hecktor2021_train/resampled/CHGJ081_gtvt.nii.gz')),\n",
       " (PosixPath('/mnt/faststorage/jintao/HNSCC/hecktor2021_train/resampled/CHUS021_ct.nii.gz'),\n",
       "  PosixPath('/mnt/faststorage/jintao/HNSCC/hecktor2021_train/resampled/CHUS021_ptsin.nii.gz'),\n",
       "  PosixPath('/mnt/faststorage/jintao/HNSCC/hecktor2021_train/resampled/CHUS021_gtvt.nii.gz')),\n",
       " (PosixPath('/mnt/faststorage/jintao/HNSCC/hecktor2021_train/resampled/CHUP022_ct.nii.gz'),\n",
       "  PosixPath('/mnt/faststorage/jintao/HNSCC/hecktor2021_train/resampled/CHUP022_ptsin.nii.gz'),\n",
       "  PosixPath('/mnt/faststorage/jintao/HNSCC/hecktor2021_train/resampled/CHUP022_gtvt.nii.gz')),\n",
       " (PosixPath('/mnt/faststorage/jintao/HNSCC/hecktor2021_train/resampled/CHGJ062_ct.nii.gz'),\n",
       "  PosixPath('/mnt/faststorage/jintao/HNSCC/hecktor2021_train/resampled/CHGJ062_ptsin.nii.gz'),\n",
       "  PosixPath('/mnt/faststorage/jintao/HNSCC/hecktor2021_train/resampled/CHGJ062_gtvt.nii.gz')),\n",
       " (PosixPath('/mnt/faststorage/jintao/HNSCC/hecktor2021_train/resampled/CHUS035_ct.nii.gz'),\n",
       "  PosixPath('/mnt/faststorage/jintao/HNSCC/hecktor2021_train/resampled/CHUS035_ptsin.nii.gz'),\n",
       "  PosixPath('/mnt/faststorage/jintao/HNSCC/hecktor2021_train/resampled/CHUS035_gtvt.nii.gz')),\n",
       " (PosixPath('/mnt/faststorage/jintao/HNSCC/hecktor2021_train/resampled/CHMR014_ct.nii.gz'),\n",
       "  PosixPath('/mnt/faststorage/jintao/HNSCC/hecktor2021_train/resampled/CHMR014_ptsin.nii.gz'),\n",
       "  PosixPath('/mnt/faststorage/jintao/HNSCC/hecktor2021_train/resampled/CHMR014_gtvt.nii.gz')),\n",
       " (PosixPath('/mnt/faststorage/jintao/HNSCC/hecktor2021_train/resampled/CHUS008_ct.nii.gz'),\n",
       "  PosixPath('/mnt/faststorage/jintao/HNSCC/hecktor2021_train/resampled/CHUS008_ptsin.nii.gz'),\n",
       "  PosixPath('/mnt/faststorage/jintao/HNSCC/hecktor2021_train/resampled/CHUS008_gtvt.nii.gz')),\n",
       " (PosixPath('/mnt/faststorage/jintao/HNSCC/hecktor2021_train/resampled/CHUP013_ct.nii.gz'),\n",
       "  PosixPath('/mnt/faststorage/jintao/HNSCC/hecktor2021_train/resampled/CHUP013_ptsin.nii.gz'),\n",
       "  PosixPath('/mnt/faststorage/jintao/HNSCC/hecktor2021_train/resampled/CHUP013_gtvt.nii.gz')),\n",
       " (PosixPath('/mnt/faststorage/jintao/HNSCC/hecktor2021_train/resampled/CHGJ013_ct.nii.gz'),\n",
       "  PosixPath('/mnt/faststorage/jintao/HNSCC/hecktor2021_train/resampled/CHGJ013_ptsin.nii.gz'),\n",
       "  PosixPath('/mnt/faststorage/jintao/HNSCC/hecktor2021_train/resampled/CHGJ013_gtvt.nii.gz')),\n",
       " (PosixPath('/mnt/faststorage/jintao/HNSCC/hecktor2021_train/resampled/CHGJ086_ct.nii.gz'),\n",
       "  PosixPath('/mnt/faststorage/jintao/HNSCC/hecktor2021_train/resampled/CHGJ086_ptsin.nii.gz'),\n",
       "  PosixPath('/mnt/faststorage/jintao/HNSCC/hecktor2021_train/resampled/CHGJ086_gtvt.nii.gz')),\n",
       " (PosixPath('/mnt/faststorage/jintao/HNSCC/hecktor2021_train/resampled/CHGJ091_ct.nii.gz'),\n",
       "  PosixPath('/mnt/faststorage/jintao/HNSCC/hecktor2021_train/resampled/CHGJ091_ptsin.nii.gz'),\n",
       "  PosixPath('/mnt/faststorage/jintao/HNSCC/hecktor2021_train/resampled/CHGJ091_gtvt.nii.gz')),\n",
       " (PosixPath('/mnt/faststorage/jintao/HNSCC/hecktor2021_train/resampled/CHUS077_ct.nii.gz'),\n",
       "  PosixPath('/mnt/faststorage/jintao/HNSCC/hecktor2021_train/resampled/CHUS077_ptsin.nii.gz'),\n",
       "  PosixPath('/mnt/faststorage/jintao/HNSCC/hecktor2021_train/resampled/CHUS077_gtvt.nii.gz')),\n",
       " (PosixPath('/mnt/faststorage/jintao/HNSCC/hecktor2021_train/resampled/CHUS045_ct.nii.gz'),\n",
       "  PosixPath('/mnt/faststorage/jintao/HNSCC/hecktor2021_train/resampled/CHUS045_ptsin.nii.gz'),\n",
       "  PosixPath('/mnt/faststorage/jintao/HNSCC/hecktor2021_train/resampled/CHUS045_gtvt.nii.gz')),\n",
       " (PosixPath('/mnt/faststorage/jintao/HNSCC/hecktor2021_train/resampled/CHUS036_ct.nii.gz'),\n",
       "  PosixPath('/mnt/faststorage/jintao/HNSCC/hecktor2021_train/resampled/CHUS036_ptsin.nii.gz'),\n",
       "  PosixPath('/mnt/faststorage/jintao/HNSCC/hecktor2021_train/resampled/CHUS036_gtvt.nii.gz')),\n",
       " (PosixPath('/mnt/faststorage/jintao/HNSCC/hecktor2021_train/resampled/CHUS027_ct.nii.gz'),\n",
       "  PosixPath('/mnt/faststorage/jintao/HNSCC/hecktor2021_train/resampled/CHUS027_ptsin.nii.gz'),\n",
       "  PosixPath('/mnt/faststorage/jintao/HNSCC/hecktor2021_train/resampled/CHUS027_gtvt.nii.gz')),\n",
       " (PosixPath('/mnt/faststorage/jintao/HNSCC/hecktor2021_train/resampled/CHGJ032_ct.nii.gz'),\n",
       "  PosixPath('/mnt/faststorage/jintao/HNSCC/hecktor2021_train/resampled/CHGJ032_ptsin.nii.gz'),\n",
       "  PosixPath('/mnt/faststorage/jintao/HNSCC/hecktor2021_train/resampled/CHGJ032_gtvt.nii.gz')),\n",
       " (PosixPath('/mnt/faststorage/jintao/HNSCC/hecktor2021_train/resampled/CHUS095_ct.nii.gz'),\n",
       "  PosixPath('/mnt/faststorage/jintao/HNSCC/hecktor2021_train/resampled/CHUS095_ptsin.nii.gz'),\n",
       "  PosixPath('/mnt/faststorage/jintao/HNSCC/hecktor2021_train/resampled/CHUS095_gtvt.nii.gz')),\n",
       " (PosixPath('/mnt/faststorage/jintao/HNSCC/hecktor2021_train/resampled/CHGJ039_ct.nii.gz'),\n",
       "  PosixPath('/mnt/faststorage/jintao/HNSCC/hecktor2021_train/resampled/CHGJ039_ptsin.nii.gz'),\n",
       "  PosixPath('/mnt/faststorage/jintao/HNSCC/hecktor2021_train/resampled/CHGJ039_gtvt.nii.gz')),\n",
       " (PosixPath('/mnt/faststorage/jintao/HNSCC/hecktor2021_train/resampled/CHUS043_ct.nii.gz'),\n",
       "  PosixPath('/mnt/faststorage/jintao/HNSCC/hecktor2021_train/resampled/CHUS043_ptsin.nii.gz'),\n",
       "  PosixPath('/mnt/faststorage/jintao/HNSCC/hecktor2021_train/resampled/CHUS043_gtvt.nii.gz')),\n",
       " (PosixPath('/mnt/faststorage/jintao/HNSCC/hecktor2021_train/resampled/CHUM032_ct.nii.gz'),\n",
       "  PosixPath('/mnt/faststorage/jintao/HNSCC/hecktor2021_train/resampled/CHUM032_ptsin.nii.gz'),\n",
       "  PosixPath('/mnt/faststorage/jintao/HNSCC/hecktor2021_train/resampled/CHUM032_gtvt.nii.gz')),\n",
       " (PosixPath('/mnt/faststorage/jintao/HNSCC/hecktor2021_train/resampled/CHUS080_ct.nii.gz'),\n",
       "  PosixPath('/mnt/faststorage/jintao/HNSCC/hecktor2021_train/resampled/CHUS080_ptsin.nii.gz'),\n",
       "  PosixPath('/mnt/faststorage/jintao/HNSCC/hecktor2021_train/resampled/CHUS080_gtvt.nii.gz')),\n",
       " (PosixPath('/mnt/faststorage/jintao/HNSCC/hecktor2021_train/resampled/CHUS050_ct.nii.gz'),\n",
       "  PosixPath('/mnt/faststorage/jintao/HNSCC/hecktor2021_train/resampled/CHUS050_ptsin.nii.gz'),\n",
       "  PosixPath('/mnt/faststorage/jintao/HNSCC/hecktor2021_train/resampled/CHUS050_gtvt.nii.gz')),\n",
       " (PosixPath('/mnt/faststorage/jintao/HNSCC/hecktor2021_train/resampled/CHGJ030_ct.nii.gz'),\n",
       "  PosixPath('/mnt/faststorage/jintao/HNSCC/hecktor2021_train/resampled/CHGJ030_ptsin.nii.gz'),\n",
       "  PosixPath('/mnt/faststorage/jintao/HNSCC/hecktor2021_train/resampled/CHGJ030_gtvt.nii.gz')),\n",
       " (PosixPath('/mnt/faststorage/jintao/HNSCC/hecktor2021_train/resampled/CHUS033_ct.nii.gz'),\n",
       "  PosixPath('/mnt/faststorage/jintao/HNSCC/hecktor2021_train/resampled/CHUS033_ptsin.nii.gz'),\n",
       "  PosixPath('/mnt/faststorage/jintao/HNSCC/hecktor2021_train/resampled/CHUS033_gtvt.nii.gz')),\n",
       " (PosixPath('/mnt/faststorage/jintao/HNSCC/hecktor2021_train/resampled/CHUS019_ct.nii.gz'),\n",
       "  PosixPath('/mnt/faststorage/jintao/HNSCC/hecktor2021_train/resampled/CHUS019_ptsin.nii.gz'),\n",
       "  PosixPath('/mnt/faststorage/jintao/HNSCC/hecktor2021_train/resampled/CHUS019_gtvt.nii.gz')),\n",
       " (PosixPath('/mnt/faststorage/jintao/HNSCC/hecktor2021_train/resampled/CHUM040_ct.nii.gz'),\n",
       "  PosixPath('/mnt/faststorage/jintao/HNSCC/hecktor2021_train/resampled/CHUM040_ptsin.nii.gz'),\n",
       "  PosixPath('/mnt/faststorage/jintao/HNSCC/hecktor2021_train/resampled/CHUM040_gtvt.nii.gz')),\n",
       " (PosixPath('/mnt/faststorage/jintao/HNSCC/hecktor2021_train/resampled/CHUS088_ct.nii.gz'),\n",
       "  PosixPath('/mnt/faststorage/jintao/HNSCC/hecktor2021_train/resampled/CHUS088_ptsin.nii.gz'),\n",
       "  PosixPath('/mnt/faststorage/jintao/HNSCC/hecktor2021_train/resampled/CHUS088_gtvt.nii.gz')),\n",
       " (PosixPath('/mnt/faststorage/jintao/HNSCC/hecktor2021_train/resampled/CHUS016_ct.nii.gz'),\n",
       "  PosixPath('/mnt/faststorage/jintao/HNSCC/hecktor2021_train/resampled/CHUS016_ptsin.nii.gz'),\n",
       "  PosixPath('/mnt/faststorage/jintao/HNSCC/hecktor2021_train/resampled/CHUS016_gtvt.nii.gz')),\n",
       " (PosixPath('/mnt/faststorage/jintao/HNSCC/hecktor2021_train/resampled/CHGJ092_ct.nii.gz'),\n",
       "  PosixPath('/mnt/faststorage/jintao/HNSCC/hecktor2021_train/resampled/CHGJ092_ptsin.nii.gz'),\n",
       "  PosixPath('/mnt/faststorage/jintao/HNSCC/hecktor2021_train/resampled/CHGJ092_gtvt.nii.gz')),\n",
       " (PosixPath('/mnt/faststorage/jintao/HNSCC/hecktor2021_train/resampled/CHGJ082_ct.nii.gz'),\n",
       "  PosixPath('/mnt/faststorage/jintao/HNSCC/hecktor2021_train/resampled/CHGJ082_ptsin.nii.gz'),\n",
       "  PosixPath('/mnt/faststorage/jintao/HNSCC/hecktor2021_train/resampled/CHGJ082_gtvt.nii.gz')),\n",
       " (PosixPath('/mnt/faststorage/jintao/HNSCC/hecktor2021_train/resampled/CHUS038_ct.nii.gz'),\n",
       "  PosixPath('/mnt/faststorage/jintao/HNSCC/hecktor2021_train/resampled/CHUS038_ptsin.nii.gz'),\n",
       "  PosixPath('/mnt/faststorage/jintao/HNSCC/hecktor2021_train/resampled/CHUS038_gtvt.nii.gz')),\n",
       " (PosixPath('/mnt/faststorage/jintao/HNSCC/hecktor2021_train/resampled/CHGJ074_ct.nii.gz'),\n",
       "  PosixPath('/mnt/faststorage/jintao/HNSCC/hecktor2021_train/resampled/CHGJ074_ptsin.nii.gz'),\n",
       "  PosixPath('/mnt/faststorage/jintao/HNSCC/hecktor2021_train/resampled/CHGJ074_gtvt.nii.gz')),\n",
       " (PosixPath('/mnt/faststorage/jintao/HNSCC/hecktor2021_train/resampled/CHUP002_ct.nii.gz'),\n",
       "  PosixPath('/mnt/faststorage/jintao/HNSCC/hecktor2021_train/resampled/CHUP002_ptsin.nii.gz'),\n",
       "  PosixPath('/mnt/faststorage/jintao/HNSCC/hecktor2021_train/resampled/CHUP002_gtvt.nii.gz')),\n",
       " (PosixPath('/mnt/faststorage/jintao/HNSCC/hecktor2021_train/resampled/CHUM023_ct.nii.gz'),\n",
       "  PosixPath('/mnt/faststorage/jintao/HNSCC/hecktor2021_train/resampled/CHUM023_ptsin.nii.gz'),\n",
       "  PosixPath('/mnt/faststorage/jintao/HNSCC/hecktor2021_train/resampled/CHUM023_gtvt.nii.gz')),\n",
       " (PosixPath('/mnt/faststorage/jintao/HNSCC/hecktor2021_train/resampled/CHGJ073_ct.nii.gz'),\n",
       "  PosixPath('/mnt/faststorage/jintao/HNSCC/hecktor2021_train/resampled/CHGJ073_ptsin.nii.gz'),\n",
       "  PosixPath('/mnt/faststorage/jintao/HNSCC/hecktor2021_train/resampled/CHGJ073_gtvt.nii.gz')),\n",
       " (PosixPath('/mnt/faststorage/jintao/HNSCC/hecktor2021_train/resampled/CHGJ025_ct.nii.gz'),\n",
       "  PosixPath('/mnt/faststorage/jintao/HNSCC/hecktor2021_train/resampled/CHGJ025_ptsin.nii.gz'),\n",
       "  PosixPath('/mnt/faststorage/jintao/HNSCC/hecktor2021_train/resampled/CHGJ025_gtvt.nii.gz')),\n",
       " (PosixPath('/mnt/faststorage/jintao/HNSCC/hecktor2021_train/resampled/CHUS009_ct.nii.gz'),\n",
       "  PosixPath('/mnt/faststorage/jintao/HNSCC/hecktor2021_train/resampled/CHUS009_ptsin.nii.gz'),\n",
       "  PosixPath('/mnt/faststorage/jintao/HNSCC/hecktor2021_train/resampled/CHUS009_gtvt.nii.gz')),\n",
       " (PosixPath('/mnt/faststorage/jintao/HNSCC/hecktor2021_train/resampled/CHUM059_ct.nii.gz'),\n",
       "  PosixPath('/mnt/faststorage/jintao/HNSCC/hecktor2021_train/resampled/CHUM059_ptsin.nii.gz'),\n",
       "  PosixPath('/mnt/faststorage/jintao/HNSCC/hecktor2021_train/resampled/CHUM059_gtvt.nii.gz')),\n",
       " (PosixPath('/mnt/faststorage/jintao/HNSCC/hecktor2021_train/resampled/CHGJ038_ct.nii.gz'),\n",
       "  PosixPath('/mnt/faststorage/jintao/HNSCC/hecktor2021_train/resampled/CHGJ038_ptsin.nii.gz'),\n",
       "  PosixPath('/mnt/faststorage/jintao/HNSCC/hecktor2021_train/resampled/CHGJ038_gtvt.nii.gz')),\n",
       " (PosixPath('/mnt/faststorage/jintao/HNSCC/hecktor2021_train/resampled/CHUP008_ct.nii.gz'),\n",
       "  PosixPath('/mnt/faststorage/jintao/HNSCC/hecktor2021_train/resampled/CHUP008_ptsin.nii.gz'),\n",
       "  PosixPath('/mnt/faststorage/jintao/HNSCC/hecktor2021_train/resampled/CHUP008_gtvt.nii.gz')),\n",
       " (PosixPath('/mnt/faststorage/jintao/HNSCC/hecktor2021_train/resampled/CHGJ055_ct.nii.gz'),\n",
       "  PosixPath('/mnt/faststorage/jintao/HNSCC/hecktor2021_train/resampled/CHGJ055_ptsin.nii.gz'),\n",
       "  PosixPath('/mnt/faststorage/jintao/HNSCC/hecktor2021_train/resampled/CHGJ055_gtvt.nii.gz')),\n",
       " (PosixPath('/mnt/faststorage/jintao/HNSCC/hecktor2021_train/resampled/CHUS097_ct.nii.gz'),\n",
       "  PosixPath('/mnt/faststorage/jintao/HNSCC/hecktor2021_train/resampled/CHUS097_ptsin.nii.gz'),\n",
       "  PosixPath('/mnt/faststorage/jintao/HNSCC/hecktor2021_train/resampled/CHUS097_gtvt.nii.gz')),\n",
       " (PosixPath('/mnt/faststorage/jintao/HNSCC/hecktor2021_train/resampled/CHUM044_ct.nii.gz'),\n",
       "  PosixPath('/mnt/faststorage/jintao/HNSCC/hecktor2021_train/resampled/CHUM044_ptsin.nii.gz'),\n",
       "  PosixPath('/mnt/faststorage/jintao/HNSCC/hecktor2021_train/resampled/CHUM044_gtvt.nii.gz')),\n",
       " (PosixPath('/mnt/faststorage/jintao/HNSCC/hecktor2021_train/resampled/CHUM010_ct.nii.gz'),\n",
       "  PosixPath('/mnt/faststorage/jintao/HNSCC/hecktor2021_train/resampled/CHUM010_ptsin.nii.gz'),\n",
       "  PosixPath('/mnt/faststorage/jintao/HNSCC/hecktor2021_train/resampled/CHUM010_gtvt.nii.gz')),\n",
       " (PosixPath('/mnt/faststorage/jintao/HNSCC/hecktor2021_train/resampled/CHUS100_ct.nii.gz'),\n",
       "  PosixPath('/mnt/faststorage/jintao/HNSCC/hecktor2021_train/resampled/CHUS100_ptsin.nii.gz'),\n",
       "  PosixPath('/mnt/faststorage/jintao/HNSCC/hecktor2021_train/resampled/CHUS100_gtvt.nii.gz')),\n",
       " (PosixPath('/mnt/faststorage/jintao/HNSCC/hecktor2021_train/resampled/CHGJ007_ct.nii.gz'),\n",
       "  PosixPath('/mnt/faststorage/jintao/HNSCC/hecktor2021_train/resampled/CHGJ007_ptsin.nii.gz'),\n",
       "  PosixPath('/mnt/faststorage/jintao/HNSCC/hecktor2021_train/resampled/CHGJ007_gtvt.nii.gz')),\n",
       " (PosixPath('/mnt/faststorage/jintao/HNSCC/hecktor2021_train/resampled/CHMR040_ct.nii.gz'),\n",
       "  PosixPath('/mnt/faststorage/jintao/HNSCC/hecktor2021_train/resampled/CHMR040_ptsin.nii.gz'),\n",
       "  PosixPath('/mnt/faststorage/jintao/HNSCC/hecktor2021_train/resampled/CHMR040_gtvt.nii.gz')),\n",
       " (PosixPath('/mnt/faststorage/jintao/HNSCC/hecktor2021_train/resampled/CHUS065_ct.nii.gz'),\n",
       "  PosixPath('/mnt/faststorage/jintao/HNSCC/hecktor2021_train/resampled/CHUS065_ptsin.nii.gz'),\n",
       "  PosixPath('/mnt/faststorage/jintao/HNSCC/hecktor2021_train/resampled/CHUS065_gtvt.nii.gz')),\n",
       " (PosixPath('/mnt/faststorage/jintao/HNSCC/hecktor2021_train/resampled/CHUP019_ct.nii.gz'),\n",
       "  PosixPath('/mnt/faststorage/jintao/HNSCC/hecktor2021_train/resampled/CHUP019_ptsin.nii.gz'),\n",
       "  PosixPath('/mnt/faststorage/jintao/HNSCC/hecktor2021_train/resampled/CHUP019_gtvt.nii.gz')),\n",
       " (PosixPath('/mnt/faststorage/jintao/HNSCC/hecktor2021_train/resampled/CHUS076_ct.nii.gz'),\n",
       "  PosixPath('/mnt/faststorage/jintao/HNSCC/hecktor2021_train/resampled/CHUS076_ptsin.nii.gz'),\n",
       "  PosixPath('/mnt/faststorage/jintao/HNSCC/hecktor2021_train/resampled/CHUS076_gtvt.nii.gz')),\n",
       " (PosixPath('/mnt/faststorage/jintao/HNSCC/hecktor2021_train/resampled/CHUP007_ct.nii.gz'),\n",
       "  PosixPath('/mnt/faststorage/jintao/HNSCC/hecktor2021_train/resampled/CHUP007_ptsin.nii.gz'),\n",
       "  PosixPath('/mnt/faststorage/jintao/HNSCC/hecktor2021_train/resampled/CHUP007_gtvt.nii.gz')),\n",
       " (PosixPath('/mnt/faststorage/jintao/HNSCC/hecktor2021_train/resampled/CHUP018_ct.nii.gz'),\n",
       "  PosixPath('/mnt/faststorage/jintao/HNSCC/hecktor2021_train/resampled/CHUP018_ptsin.nii.gz'),\n",
       "  PosixPath('/mnt/faststorage/jintao/HNSCC/hecktor2021_train/resampled/CHUP018_gtvt.nii.gz')),\n",
       " (PosixPath('/mnt/faststorage/jintao/HNSCC/hecktor2021_train/resampled/CHGJ017_ct.nii.gz'),\n",
       "  PosixPath('/mnt/faststorage/jintao/HNSCC/hecktor2021_train/resampled/CHGJ017_ptsin.nii.gz'),\n",
       "  PosixPath('/mnt/faststorage/jintao/HNSCC/hecktor2021_train/resampled/CHGJ017_gtvt.nii.gz')),\n",
       " (PosixPath('/mnt/faststorage/jintao/HNSCC/hecktor2021_train/resampled/CHUM057_ct.nii.gz'),\n",
       "  PosixPath('/mnt/faststorage/jintao/HNSCC/hecktor2021_train/resampled/CHUM057_ptsin.nii.gz'),\n",
       "  PosixPath('/mnt/faststorage/jintao/HNSCC/hecktor2021_train/resampled/CHUM057_gtvt.nii.gz')),\n",
       " (PosixPath('/mnt/faststorage/jintao/HNSCC/hecktor2021_train/resampled/CHMR030_ct.nii.gz'),\n",
       "  PosixPath('/mnt/faststorage/jintao/HNSCC/hecktor2021_train/resampled/CHMR030_ptsin.nii.gz'),\n",
       "  PosixPath('/mnt/faststorage/jintao/HNSCC/hecktor2021_train/resampled/CHMR030_gtvt.nii.gz')),\n",
       " (PosixPath('/mnt/faststorage/jintao/HNSCC/hecktor2021_train/resampled/CHUS030_ct.nii.gz'),\n",
       "  PosixPath('/mnt/faststorage/jintao/HNSCC/hecktor2021_train/resampled/CHUS030_ptsin.nii.gz'),\n",
       "  PosixPath('/mnt/faststorage/jintao/HNSCC/hecktor2021_train/resampled/CHUS030_gtvt.nii.gz')),\n",
       " (PosixPath('/mnt/faststorage/jintao/HNSCC/hecktor2021_train/resampled/CHUS042_ct.nii.gz'),\n",
       "  PosixPath('/mnt/faststorage/jintao/HNSCC/hecktor2021_train/resampled/CHUS042_ptsin.nii.gz'),\n",
       "  PosixPath('/mnt/faststorage/jintao/HNSCC/hecktor2021_train/resampled/CHUS042_gtvt.nii.gz')),\n",
       " (PosixPath('/mnt/faststorage/jintao/HNSCC/hecktor2021_train/resampled/CHUP006_ct.nii.gz'),\n",
       "  PosixPath('/mnt/faststorage/jintao/HNSCC/hecktor2021_train/resampled/CHUP006_ptsin.nii.gz'),\n",
       "  PosixPath('/mnt/faststorage/jintao/HNSCC/hecktor2021_train/resampled/CHUP006_gtvt.nii.gz')),\n",
       " (PosixPath('/mnt/faststorage/jintao/HNSCC/hecktor2021_train/resampled/CHGJ036_ct.nii.gz'),\n",
       "  PosixPath('/mnt/faststorage/jintao/HNSCC/hecktor2021_train/resampled/CHGJ036_ptsin.nii.gz'),\n",
       "  PosixPath('/mnt/faststorage/jintao/HNSCC/hecktor2021_train/resampled/CHGJ036_gtvt.nii.gz')),\n",
       " (PosixPath('/mnt/faststorage/jintao/HNSCC/hecktor2021_train/resampled/CHGJ037_ct.nii.gz'),\n",
       "  PosixPath('/mnt/faststorage/jintao/HNSCC/hecktor2021_train/resampled/CHGJ037_ptsin.nii.gz'),\n",
       "  PosixPath('/mnt/faststorage/jintao/HNSCC/hecktor2021_train/resampled/CHGJ037_gtvt.nii.gz')),\n",
       " (PosixPath('/mnt/faststorage/jintao/HNSCC/hecktor2021_train/resampled/CHGJ076_ct.nii.gz'),\n",
       "  PosixPath('/mnt/faststorage/jintao/HNSCC/hecktor2021_train/resampled/CHGJ076_ptsin.nii.gz'),\n",
       "  PosixPath('/mnt/faststorage/jintao/HNSCC/hecktor2021_train/resampled/CHGJ076_gtvt.nii.gz')),\n",
       " (PosixPath('/mnt/faststorage/jintao/HNSCC/hecktor2021_train/resampled/CHGJ053_ct.nii.gz'),\n",
       "  PosixPath('/mnt/faststorage/jintao/HNSCC/hecktor2021_train/resampled/CHGJ053_ptsin.nii.gz'),\n",
       "  PosixPath('/mnt/faststorage/jintao/HNSCC/hecktor2021_train/resampled/CHGJ053_gtvt.nii.gz')),\n",
       " (PosixPath('/mnt/faststorage/jintao/HNSCC/hecktor2021_train/resampled/CHUM043_ct.nii.gz'),\n",
       "  PosixPath('/mnt/faststorage/jintao/HNSCC/hecktor2021_train/resampled/CHUM043_ptsin.nii.gz'),\n",
       "  PosixPath('/mnt/faststorage/jintao/HNSCC/hecktor2021_train/resampled/CHUM043_gtvt.nii.gz')),\n",
       " (PosixPath('/mnt/faststorage/jintao/HNSCC/hecktor2021_train/resampled/CHGJ067_ct.nii.gz'),\n",
       "  PosixPath('/mnt/faststorage/jintao/HNSCC/hecktor2021_train/resampled/CHGJ067_ptsin.nii.gz'),\n",
       "  PosixPath('/mnt/faststorage/jintao/HNSCC/hecktor2021_train/resampled/CHGJ067_gtvt.nii.gz')),\n",
       " (PosixPath('/mnt/faststorage/jintao/HNSCC/hecktor2021_train/resampled/CHUM064_ct.nii.gz'),\n",
       "  PosixPath('/mnt/faststorage/jintao/HNSCC/hecktor2021_train/resampled/CHUM064_ptsin.nii.gz'),\n",
       "  PosixPath('/mnt/faststorage/jintao/HNSCC/hecktor2021_train/resampled/CHUM064_gtvt.nii.gz')),\n",
       " (PosixPath('/mnt/faststorage/jintao/HNSCC/hecktor2021_train/resampled/CHGJ016_ct.nii.gz'),\n",
       "  PosixPath('/mnt/faststorage/jintao/HNSCC/hecktor2021_train/resampled/CHGJ016_ptsin.nii.gz'),\n",
       "  PosixPath('/mnt/faststorage/jintao/HNSCC/hecktor2021_train/resampled/CHGJ016_gtvt.nii.gz')),\n",
       " (PosixPath('/mnt/faststorage/jintao/HNSCC/hecktor2021_train/resampled/CHGJ072_ct.nii.gz'),\n",
       "  PosixPath('/mnt/faststorage/jintao/HNSCC/hecktor2021_train/resampled/CHGJ072_ptsin.nii.gz'),\n",
       "  PosixPath('/mnt/faststorage/jintao/HNSCC/hecktor2021_train/resampled/CHGJ072_gtvt.nii.gz')),\n",
       " (PosixPath('/mnt/faststorage/jintao/HNSCC/hecktor2021_train/resampled/CHUS056_ct.nii.gz'),\n",
       "  PosixPath('/mnt/faststorage/jintao/HNSCC/hecktor2021_train/resampled/CHUS056_ptsin.nii.gz'),\n",
       "  PosixPath('/mnt/faststorage/jintao/HNSCC/hecktor2021_train/resampled/CHUS056_gtvt.nii.gz')),\n",
       " (PosixPath('/mnt/faststorage/jintao/HNSCC/hecktor2021_train/resampled/CHMR011_ct.nii.gz'),\n",
       "  PosixPath('/mnt/faststorage/jintao/HNSCC/hecktor2021_train/resampled/CHMR011_ptsin.nii.gz'),\n",
       "  PosixPath('/mnt/faststorage/jintao/HNSCC/hecktor2021_train/resampled/CHMR011_gtvt.nii.gz')),\n",
       " (PosixPath('/mnt/faststorage/jintao/HNSCC/hecktor2021_train/resampled/CHUS003_ct.nii.gz'),\n",
       "  PosixPath('/mnt/faststorage/jintao/HNSCC/hecktor2021_train/resampled/CHUS003_ptsin.nii.gz'),\n",
       "  PosixPath('/mnt/faststorage/jintao/HNSCC/hecktor2021_train/resampled/CHUS003_gtvt.nii.gz')),\n",
       " (PosixPath('/mnt/faststorage/jintao/HNSCC/hecktor2021_train/resampled/CHUM027_ct.nii.gz'),\n",
       "  PosixPath('/mnt/faststorage/jintao/HNSCC/hecktor2021_train/resampled/CHUM027_ptsin.nii.gz'),\n",
       "  PosixPath('/mnt/faststorage/jintao/HNSCC/hecktor2021_train/resampled/CHUM027_gtvt.nii.gz')),\n",
       " (PosixPath('/mnt/faststorage/jintao/HNSCC/hecktor2021_train/resampled/CHGJ077_ct.nii.gz'),\n",
       "  PosixPath('/mnt/faststorage/jintao/HNSCC/hecktor2021_train/resampled/CHGJ077_ptsin.nii.gz'),\n",
       "  PosixPath('/mnt/faststorage/jintao/HNSCC/hecktor2021_train/resampled/CHGJ077_gtvt.nii.gz')),\n",
       " (PosixPath('/mnt/faststorage/jintao/HNSCC/hecktor2021_train/resampled/CHMR004_ct.nii.gz'),\n",
       "  PosixPath('/mnt/faststorage/jintao/HNSCC/hecktor2021_train/resampled/CHMR004_ptsin.nii.gz'),\n",
       "  PosixPath('/mnt/faststorage/jintao/HNSCC/hecktor2021_train/resampled/CHMR004_gtvt.nii.gz')),\n",
       " (PosixPath('/mnt/faststorage/jintao/HNSCC/hecktor2021_train/resampled/CHUS015_ct.nii.gz'),\n",
       "  PosixPath('/mnt/faststorage/jintao/HNSCC/hecktor2021_train/resampled/CHUS015_ptsin.nii.gz'),\n",
       "  PosixPath('/mnt/faststorage/jintao/HNSCC/hecktor2021_train/resampled/CHUS015_gtvt.nii.gz')),\n",
       " (PosixPath('/mnt/faststorage/jintao/HNSCC/hecktor2021_train/resampled/CHUS049_ct.nii.gz'),\n",
       "  PosixPath('/mnt/faststorage/jintao/HNSCC/hecktor2021_train/resampled/CHUS049_ptsin.nii.gz'),\n",
       "  PosixPath('/mnt/faststorage/jintao/HNSCC/hecktor2021_train/resampled/CHUS049_gtvt.nii.gz')),\n",
       " (PosixPath('/mnt/faststorage/jintao/HNSCC/hecktor2021_train/resampled/CHUM026_ct.nii.gz'),\n",
       "  PosixPath('/mnt/faststorage/jintao/HNSCC/hecktor2021_train/resampled/CHUM026_ptsin.nii.gz'),\n",
       "  PosixPath('/mnt/faststorage/jintao/HNSCC/hecktor2021_train/resampled/CHUM026_gtvt.nii.gz')),\n",
       " (PosixPath('/mnt/faststorage/jintao/HNSCC/hecktor2021_train/resampled/CHUS067_ct.nii.gz'),\n",
       "  PosixPath('/mnt/faststorage/jintao/HNSCC/hecktor2021_train/resampled/CHUS067_ptsin.nii.gz'),\n",
       "  PosixPath('/mnt/faststorage/jintao/HNSCC/hecktor2021_train/resampled/CHUS067_gtvt.nii.gz')),\n",
       " (PosixPath('/mnt/faststorage/jintao/HNSCC/hecktor2021_train/resampled/CHUS058_ct.nii.gz'),\n",
       "  PosixPath('/mnt/faststorage/jintao/HNSCC/hecktor2021_train/resampled/CHUS058_ptsin.nii.gz'),\n",
       "  PosixPath('/mnt/faststorage/jintao/HNSCC/hecktor2021_train/resampled/CHUS058_gtvt.nii.gz')),\n",
       " (PosixPath('/mnt/faststorage/jintao/HNSCC/hecktor2021_train/resampled/CHUP004_ct.nii.gz'),\n",
       "  PosixPath('/mnt/faststorage/jintao/HNSCC/hecktor2021_train/resampled/CHUP004_ptsin.nii.gz'),\n",
       "  PosixPath('/mnt/faststorage/jintao/HNSCC/hecktor2021_train/resampled/CHUP004_gtvt.nii.gz')),\n",
       " (PosixPath('/mnt/faststorage/jintao/HNSCC/hecktor2021_train/resampled/CHUS055_ct.nii.gz'),\n",
       "  PosixPath('/mnt/faststorage/jintao/HNSCC/hecktor2021_train/resampled/CHUS055_ptsin.nii.gz'),\n",
       "  PosixPath('/mnt/faststorage/jintao/HNSCC/hecktor2021_train/resampled/CHUS055_gtvt.nii.gz')),\n",
       " (PosixPath('/mnt/faststorage/jintao/HNSCC/hecktor2021_train/resampled/CHUS094_ct.nii.gz'),\n",
       "  PosixPath('/mnt/faststorage/jintao/HNSCC/hecktor2021_train/resampled/CHUS094_ptsin.nii.gz'),\n",
       "  PosixPath('/mnt/faststorage/jintao/HNSCC/hecktor2021_train/resampled/CHUS094_gtvt.nii.gz')),\n",
       " (PosixPath('/mnt/faststorage/jintao/HNSCC/hecktor2021_train/resampled/CHGJ035_ct.nii.gz'),\n",
       "  PosixPath('/mnt/faststorage/jintao/HNSCC/hecktor2021_train/resampled/CHGJ035_ptsin.nii.gz'),\n",
       "  PosixPath('/mnt/faststorage/jintao/HNSCC/hecktor2021_train/resampled/CHGJ035_gtvt.nii.gz')),\n",
       " (PosixPath('/mnt/faststorage/jintao/HNSCC/hecktor2021_train/resampled/CHUS087_ct.nii.gz'),\n",
       "  PosixPath('/mnt/faststorage/jintao/HNSCC/hecktor2021_train/resampled/CHUS087_ptsin.nii.gz'),\n",
       "  PosixPath('/mnt/faststorage/jintao/HNSCC/hecktor2021_train/resampled/CHUS087_gtvt.nii.gz')),\n",
       " (PosixPath('/mnt/faststorage/jintao/HNSCC/hecktor2021_train/resampled/CHUM011_ct.nii.gz'),\n",
       "  PosixPath('/mnt/faststorage/jintao/HNSCC/hecktor2021_train/resampled/CHUM011_ptsin.nii.gz'),\n",
       "  PosixPath('/mnt/faststorage/jintao/HNSCC/hecktor2021_train/resampled/CHUM011_gtvt.nii.gz')),\n",
       " (PosixPath('/mnt/faststorage/jintao/HNSCC/hecktor2021_train/resampled/CHUS060_ct.nii.gz'),\n",
       "  PosixPath('/mnt/faststorage/jintao/HNSCC/hecktor2021_train/resampled/CHUS060_ptsin.nii.gz'),\n",
       "  PosixPath('/mnt/faststorage/jintao/HNSCC/hecktor2021_train/resampled/CHUS060_gtvt.nii.gz')),\n",
       " (PosixPath('/mnt/faststorage/jintao/HNSCC/hecktor2021_train/resampled/CHUS068_ct.nii.gz'),\n",
       "  PosixPath('/mnt/faststorage/jintao/HNSCC/hecktor2021_train/resampled/CHUS068_ptsin.nii.gz'),\n",
       "  PosixPath('/mnt/faststorage/jintao/HNSCC/hecktor2021_train/resampled/CHUS068_gtvt.nii.gz')),\n",
       " (PosixPath('/mnt/faststorage/jintao/HNSCC/hecktor2021_train/resampled/CHUM060_ct.nii.gz'),\n",
       "  PosixPath('/mnt/faststorage/jintao/HNSCC/hecktor2021_train/resampled/CHUM060_ptsin.nii.gz'),\n",
       "  PosixPath('/mnt/faststorage/jintao/HNSCC/hecktor2021_train/resampled/CHUM060_gtvt.nii.gz')),\n",
       " (PosixPath('/mnt/faststorage/jintao/HNSCC/hecktor2021_train/resampled/CHUS057_ct.nii.gz'),\n",
       "  PosixPath('/mnt/faststorage/jintao/HNSCC/hecktor2021_train/resampled/CHUS057_ptsin.nii.gz'),\n",
       "  PosixPath('/mnt/faststorage/jintao/HNSCC/hecktor2021_train/resampled/CHUS057_gtvt.nii.gz')),\n",
       " (PosixPath('/mnt/faststorage/jintao/HNSCC/hecktor2021_train/resampled/CHUM021_ct.nii.gz'),\n",
       "  PosixPath('/mnt/faststorage/jintao/HNSCC/hecktor2021_train/resampled/CHUM021_ptsin.nii.gz'),\n",
       "  PosixPath('/mnt/faststorage/jintao/HNSCC/hecktor2021_train/resampled/CHUM021_gtvt.nii.gz')),\n",
       " (PosixPath('/mnt/faststorage/jintao/HNSCC/hecktor2021_train/resampled/CHGJ031_ct.nii.gz'),\n",
       "  PosixPath('/mnt/faststorage/jintao/HNSCC/hecktor2021_train/resampled/CHGJ031_ptsin.nii.gz'),\n",
       "  PosixPath('/mnt/faststorage/jintao/HNSCC/hecktor2021_train/resampled/CHGJ031_gtvt.nii.gz')),\n",
       " (PosixPath('/mnt/faststorage/jintao/HNSCC/hecktor2021_train/resampled/CHUM030_ct.nii.gz'),\n",
       "  PosixPath('/mnt/faststorage/jintao/HNSCC/hecktor2021_train/resampled/CHUM030_ptsin.nii.gz'),\n",
       "  PosixPath('/mnt/faststorage/jintao/HNSCC/hecktor2021_train/resampled/CHUM030_gtvt.nii.gz')),\n",
       " (PosixPath('/mnt/faststorage/jintao/HNSCC/hecktor2021_train/resampled/CHGJ010_ct.nii.gz'),\n",
       "  PosixPath('/mnt/faststorage/jintao/HNSCC/hecktor2021_train/resampled/CHGJ010_ptsin.nii.gz'),\n",
       "  PosixPath('/mnt/faststorage/jintao/HNSCC/hecktor2021_train/resampled/CHGJ010_gtvt.nii.gz')),\n",
       " (PosixPath('/mnt/faststorage/jintao/HNSCC/hecktor2021_train/resampled/CHUM038_ct.nii.gz'),\n",
       "  PosixPath('/mnt/faststorage/jintao/HNSCC/hecktor2021_train/resampled/CHUM038_ptsin.nii.gz'),\n",
       "  PosixPath('/mnt/faststorage/jintao/HNSCC/hecktor2021_train/resampled/CHUM038_gtvt.nii.gz')),\n",
       " (PosixPath('/mnt/faststorage/jintao/HNSCC/hecktor2021_train/resampled/CHUS039_ct.nii.gz'),\n",
       "  PosixPath('/mnt/faststorage/jintao/HNSCC/hecktor2021_train/resampled/CHUS039_ptsin.nii.gz'),\n",
       "  PosixPath('/mnt/faststorage/jintao/HNSCC/hecktor2021_train/resampled/CHUS039_gtvt.nii.gz')),\n",
       " (PosixPath('/mnt/faststorage/jintao/HNSCC/hecktor2021_train/resampled/CHUM058_ct.nii.gz'),\n",
       "  PosixPath('/mnt/faststorage/jintao/HNSCC/hecktor2021_train/resampled/CHUM058_ptsin.nii.gz'),\n",
       "  PosixPath('/mnt/faststorage/jintao/HNSCC/hecktor2021_train/resampled/CHUM058_gtvt.nii.gz')),\n",
       " (PosixPath('/mnt/faststorage/jintao/HNSCC/hecktor2021_train/resampled/CHUP012_ct.nii.gz'),\n",
       "  PosixPath('/mnt/faststorage/jintao/HNSCC/hecktor2021_train/resampled/CHUP012_ptsin.nii.gz'),\n",
       "  PosixPath('/mnt/faststorage/jintao/HNSCC/hecktor2021_train/resampled/CHUP012_gtvt.nii.gz')),\n",
       " (PosixPath('/mnt/faststorage/jintao/HNSCC/hecktor2021_train/resampled/CHUM036_ct.nii.gz'),\n",
       "  PosixPath('/mnt/faststorage/jintao/HNSCC/hecktor2021_train/resampled/CHUM036_ptsin.nii.gz'),\n",
       "  PosixPath('/mnt/faststorage/jintao/HNSCC/hecktor2021_train/resampled/CHUM036_gtvt.nii.gz')),\n",
       " (PosixPath('/mnt/faststorage/jintao/HNSCC/hecktor2021_train/resampled/CHUS096_ct.nii.gz'),\n",
       "  PosixPath('/mnt/faststorage/jintao/HNSCC/hecktor2021_train/resampled/CHUS096_ptsin.nii.gz'),\n",
       "  PosixPath('/mnt/faststorage/jintao/HNSCC/hecktor2021_train/resampled/CHUS096_gtvt.nii.gz')),\n",
       " (PosixPath('/mnt/faststorage/jintao/HNSCC/hecktor2021_train/resampled/CHUM054_ct.nii.gz'),\n",
       "  PosixPath('/mnt/faststorage/jintao/HNSCC/hecktor2021_train/resampled/CHUM054_ptsin.nii.gz'),\n",
       "  PosixPath('/mnt/faststorage/jintao/HNSCC/hecktor2021_train/resampled/CHUM054_gtvt.nii.gz')),\n",
       " (PosixPath('/mnt/faststorage/jintao/HNSCC/hecktor2021_train/resampled/CHUS066_ct.nii.gz'),\n",
       "  PosixPath('/mnt/faststorage/jintao/HNSCC/hecktor2021_train/resampled/CHUS066_ptsin.nii.gz'),\n",
       "  PosixPath('/mnt/faststorage/jintao/HNSCC/hecktor2021_train/resampled/CHUS066_gtvt.nii.gz')),\n",
       " (PosixPath('/mnt/faststorage/jintao/HNSCC/hecktor2021_train/resampled/CHUP009_ct.nii.gz'),\n",
       "  PosixPath('/mnt/faststorage/jintao/HNSCC/hecktor2021_train/resampled/CHUP009_ptsin.nii.gz'),\n",
       "  PosixPath('/mnt/faststorage/jintao/HNSCC/hecktor2021_train/resampled/CHUP009_gtvt.nii.gz')),\n",
       " (PosixPath('/mnt/faststorage/jintao/HNSCC/hecktor2021_train/resampled/CHUS041_ct.nii.gz'),\n",
       "  PosixPath('/mnt/faststorage/jintao/HNSCC/hecktor2021_train/resampled/CHUS041_ptsin.nii.gz'),\n",
       "  PosixPath('/mnt/faststorage/jintao/HNSCC/hecktor2021_train/resampled/CHUS041_gtvt.nii.gz')),\n",
       " (PosixPath('/mnt/faststorage/jintao/HNSCC/hecktor2021_train/resampled/CHMR024_ct.nii.gz'),\n",
       "  PosixPath('/mnt/faststorage/jintao/HNSCC/hecktor2021_train/resampled/CHMR024_ptsin.nii.gz'),\n",
       "  PosixPath('/mnt/faststorage/jintao/HNSCC/hecktor2021_train/resampled/CHMR024_gtvt.nii.gz')),\n",
       " (PosixPath('/mnt/faststorage/jintao/HNSCC/hecktor2021_train/resampled/CHGJ026_ct.nii.gz'),\n",
       "  PosixPath('/mnt/faststorage/jintao/HNSCC/hecktor2021_train/resampled/CHGJ026_ptsin.nii.gz'),\n",
       "  PosixPath('/mnt/faststorage/jintao/HNSCC/hecktor2021_train/resampled/CHGJ026_gtvt.nii.gz')),\n",
       " (PosixPath('/mnt/faststorage/jintao/HNSCC/hecktor2021_train/resampled/CHUM001_ct.nii.gz'),\n",
       "  PosixPath('/mnt/faststorage/jintao/HNSCC/hecktor2021_train/resampled/CHUM001_ptsin.nii.gz'),\n",
       "  PosixPath('/mnt/faststorage/jintao/HNSCC/hecktor2021_train/resampled/CHUM001_gtvt.nii.gz')),\n",
       " (PosixPath('/mnt/faststorage/jintao/HNSCC/hecktor2021_train/resampled/CHGJ046_ct.nii.gz'),\n",
       "  PosixPath('/mnt/faststorage/jintao/HNSCC/hecktor2021_train/resampled/CHGJ046_ptsin.nii.gz'),\n",
       "  PosixPath('/mnt/faststorage/jintao/HNSCC/hecktor2021_train/resampled/CHGJ046_gtvt.nii.gz')),\n",
       " (PosixPath('/mnt/faststorage/jintao/HNSCC/hecktor2021_train/resampled/CHUM022_ct.nii.gz'),\n",
       "  PosixPath('/mnt/faststorage/jintao/HNSCC/hecktor2021_train/resampled/CHUM022_ptsin.nii.gz'),\n",
       "  PosixPath('/mnt/faststorage/jintao/HNSCC/hecktor2021_train/resampled/CHUM022_gtvt.nii.gz')),\n",
       " (PosixPath('/mnt/faststorage/jintao/HNSCC/hecktor2021_train/resampled/CHUS013_ct.nii.gz'),\n",
       "  PosixPath('/mnt/faststorage/jintao/HNSCC/hecktor2021_train/resampled/CHUS013_ptsin.nii.gz'),\n",
       "  PosixPath('/mnt/faststorage/jintao/HNSCC/hecktor2021_train/resampled/CHUS013_gtvt.nii.gz')),\n",
       " (PosixPath('/mnt/faststorage/jintao/HNSCC/hecktor2021_train/resampled/CHGJ066_ct.nii.gz'),\n",
       "  PosixPath('/mnt/faststorage/jintao/HNSCC/hecktor2021_train/resampled/CHGJ066_ptsin.nii.gz'),\n",
       "  PosixPath('/mnt/faststorage/jintao/HNSCC/hecktor2021_train/resampled/CHGJ066_gtvt.nii.gz')),\n",
       " (PosixPath('/mnt/faststorage/jintao/HNSCC/hecktor2021_train/resampled/CHGJ050_ct.nii.gz'),\n",
       "  PosixPath('/mnt/faststorage/jintao/HNSCC/hecktor2021_train/resampled/CHGJ050_ptsin.nii.gz'),\n",
       "  PosixPath('/mnt/faststorage/jintao/HNSCC/hecktor2021_train/resampled/CHGJ050_gtvt.nii.gz')),\n",
       " (PosixPath('/mnt/faststorage/jintao/HNSCC/hecktor2021_train/resampled/CHUS007_ct.nii.gz'),\n",
       "  PosixPath('/mnt/faststorage/jintao/HNSCC/hecktor2021_train/resampled/CHUS007_ptsin.nii.gz'),\n",
       "  PosixPath('/mnt/faststorage/jintao/HNSCC/hecktor2021_train/resampled/CHUS007_gtvt.nii.gz')),\n",
       " (PosixPath('/mnt/faststorage/jintao/HNSCC/hecktor2021_train/resampled/CHUS004_ct.nii.gz'),\n",
       "  PosixPath('/mnt/faststorage/jintao/HNSCC/hecktor2021_train/resampled/CHUS004_ptsin.nii.gz'),\n",
       "  PosixPath('/mnt/faststorage/jintao/HNSCC/hecktor2021_train/resampled/CHUS004_gtvt.nii.gz')),\n",
       " (PosixPath('/mnt/faststorage/jintao/HNSCC/hecktor2021_train/resampled/CHGJ052_ct.nii.gz'),\n",
       "  PosixPath('/mnt/faststorage/jintao/HNSCC/hecktor2021_train/resampled/CHGJ052_ptsin.nii.gz'),\n",
       "  PosixPath('/mnt/faststorage/jintao/HNSCC/hecktor2021_train/resampled/CHGJ052_gtvt.nii.gz')),\n",
       " (PosixPath('/mnt/faststorage/jintao/HNSCC/hecktor2021_train/resampled/CHUM017_ct.nii.gz'),\n",
       "  PosixPath('/mnt/faststorage/jintao/HNSCC/hecktor2021_train/resampled/CHUM017_ptsin.nii.gz'),\n",
       "  PosixPath('/mnt/faststorage/jintao/HNSCC/hecktor2021_train/resampled/CHUM017_gtvt.nii.gz')),\n",
       " (PosixPath('/mnt/faststorage/jintao/HNSCC/hecktor2021_train/resampled/CHUS051_ct.nii.gz'),\n",
       "  PosixPath('/mnt/faststorage/jintao/HNSCC/hecktor2021_train/resampled/CHUS051_ptsin.nii.gz'),\n",
       "  PosixPath('/mnt/faststorage/jintao/HNSCC/hecktor2021_train/resampled/CHUS051_gtvt.nii.gz')),\n",
       " (PosixPath('/mnt/faststorage/jintao/HNSCC/hecktor2021_train/resampled/CHGJ090_ct.nii.gz'),\n",
       "  PosixPath('/mnt/faststorage/jintao/HNSCC/hecktor2021_train/resampled/CHGJ090_ptsin.nii.gz'),\n",
       "  PosixPath('/mnt/faststorage/jintao/HNSCC/hecktor2021_train/resampled/CHGJ090_gtvt.nii.gz')),\n",
       " (PosixPath('/mnt/faststorage/jintao/HNSCC/hecktor2021_train/resampled/CHGJ085_ct.nii.gz'),\n",
       "  PosixPath('/mnt/faststorage/jintao/HNSCC/hecktor2021_train/resampled/CHGJ085_ptsin.nii.gz'),\n",
       "  PosixPath('/mnt/faststorage/jintao/HNSCC/hecktor2021_train/resampled/CHGJ085_gtvt.nii.gz')),\n",
       " (PosixPath('/mnt/faststorage/jintao/HNSCC/hecktor2021_train/resampled/CHUS064_ct.nii.gz'),\n",
       "  PosixPath('/mnt/faststorage/jintao/HNSCC/hecktor2021_train/resampled/CHUS064_ptsin.nii.gz'),\n",
       "  PosixPath('/mnt/faststorage/jintao/HNSCC/hecktor2021_train/resampled/CHUS064_gtvt.nii.gz')),\n",
       " (PosixPath('/mnt/faststorage/jintao/HNSCC/hecktor2021_train/resampled/CHUM065_ct.nii.gz'),\n",
       "  PosixPath('/mnt/faststorage/jintao/HNSCC/hecktor2021_train/resampled/CHUM065_ptsin.nii.gz'),\n",
       "  PosixPath('/mnt/faststorage/jintao/HNSCC/hecktor2021_train/resampled/CHUM065_gtvt.nii.gz')),\n",
       " (PosixPath('/mnt/faststorage/jintao/HNSCC/hecktor2021_train/resampled/CHUM034_ct.nii.gz'),\n",
       "  PosixPath('/mnt/faststorage/jintao/HNSCC/hecktor2021_train/resampled/CHUM034_ptsin.nii.gz'),\n",
       "  PosixPath('/mnt/faststorage/jintao/HNSCC/hecktor2021_train/resampled/CHUM034_gtvt.nii.gz')),\n",
       " (PosixPath('/mnt/faststorage/jintao/HNSCC/hecktor2021_train/resampled/CHUM014_ct.nii.gz'),\n",
       "  PosixPath('/mnt/faststorage/jintao/HNSCC/hecktor2021_train/resampled/CHUM014_ptsin.nii.gz'),\n",
       "  PosixPath('/mnt/faststorage/jintao/HNSCC/hecktor2021_train/resampled/CHUM014_gtvt.nii.gz')),\n",
       " (PosixPath('/mnt/faststorage/jintao/HNSCC/hecktor2021_train/resampled/CHMR005_ct.nii.gz'),\n",
       "  PosixPath('/mnt/faststorage/jintao/HNSCC/hecktor2021_train/resampled/CHMR005_ptsin.nii.gz'),\n",
       "  PosixPath('/mnt/faststorage/jintao/HNSCC/hecktor2021_train/resampled/CHMR005_gtvt.nii.gz')),\n",
       " (PosixPath('/mnt/faststorage/jintao/HNSCC/hecktor2021_train/resampled/CHMR001_ct.nii.gz'),\n",
       "  PosixPath('/mnt/faststorage/jintao/HNSCC/hecktor2021_train/resampled/CHMR001_ptsin.nii.gz'),\n",
       "  PosixPath('/mnt/faststorage/jintao/HNSCC/hecktor2021_train/resampled/CHMR001_gtvt.nii.gz')),\n",
       " (PosixPath('/mnt/faststorage/jintao/HNSCC/hecktor2021_train/resampled/CHUS073_ct.nii.gz'),\n",
       "  PosixPath('/mnt/faststorage/jintao/HNSCC/hecktor2021_train/resampled/CHUS073_ptsin.nii.gz'),\n",
       "  PosixPath('/mnt/faststorage/jintao/HNSCC/hecktor2021_train/resampled/CHUS073_gtvt.nii.gz')),\n",
       " (PosixPath('/mnt/faststorage/jintao/HNSCC/hecktor2021_train/resampled/CHMR025_ct.nii.gz'),\n",
       "  PosixPath('/mnt/faststorage/jintao/HNSCC/hecktor2021_train/resampled/CHMR025_ptsin.nii.gz'),\n",
       "  PosixPath('/mnt/faststorage/jintao/HNSCC/hecktor2021_train/resampled/CHMR025_gtvt.nii.gz')),\n",
       " (PosixPath('/mnt/faststorage/jintao/HNSCC/hecktor2021_train/resampled/CHGJ015_ct.nii.gz'),\n",
       "  PosixPath('/mnt/faststorage/jintao/HNSCC/hecktor2021_train/resampled/CHGJ015_ptsin.nii.gz'),\n",
       "  PosixPath('/mnt/faststorage/jintao/HNSCC/hecktor2021_train/resampled/CHGJ015_gtvt.nii.gz')),\n",
       " (PosixPath('/mnt/faststorage/jintao/HNSCC/hecktor2021_train/resampled/CHUS085_ct.nii.gz'),\n",
       "  PosixPath('/mnt/faststorage/jintao/HNSCC/hecktor2021_train/resampled/CHUS085_ptsin.nii.gz'),\n",
       "  PosixPath('/mnt/faststorage/jintao/HNSCC/hecktor2021_train/resampled/CHUS085_gtvt.nii.gz')),\n",
       " (PosixPath('/mnt/faststorage/jintao/HNSCC/hecktor2021_train/resampled/CHMR020_ct.nii.gz'),\n",
       "  PosixPath('/mnt/faststorage/jintao/HNSCC/hecktor2021_train/resampled/CHMR020_ptsin.nii.gz'),\n",
       "  PosixPath('/mnt/faststorage/jintao/HNSCC/hecktor2021_train/resampled/CHMR020_gtvt.nii.gz')),\n",
       " (PosixPath('/mnt/faststorage/jintao/HNSCC/hecktor2021_train/resampled/CHUS078_ct.nii.gz'),\n",
       "  PosixPath('/mnt/faststorage/jintao/HNSCC/hecktor2021_train/resampled/CHUS078_ptsin.nii.gz'),\n",
       "  PosixPath('/mnt/faststorage/jintao/HNSCC/hecktor2021_train/resampled/CHUS078_gtvt.nii.gz')),\n",
       " (PosixPath('/mnt/faststorage/jintao/HNSCC/hecktor2021_train/resampled/CHGJ034_ct.nii.gz'),\n",
       "  PosixPath('/mnt/faststorage/jintao/HNSCC/hecktor2021_train/resampled/CHGJ034_ptsin.nii.gz'),\n",
       "  PosixPath('/mnt/faststorage/jintao/HNSCC/hecktor2021_train/resampled/CHGJ034_gtvt.nii.gz')),\n",
       " (PosixPath('/mnt/faststorage/jintao/HNSCC/hecktor2021_train/resampled/CHGJ088_ct.nii.gz'),\n",
       "  PosixPath('/mnt/faststorage/jintao/HNSCC/hecktor2021_train/resampled/CHGJ088_ptsin.nii.gz'),\n",
       "  PosixPath('/mnt/faststorage/jintao/HNSCC/hecktor2021_train/resampled/CHGJ088_gtvt.nii.gz')),\n",
       " (PosixPath('/mnt/faststorage/jintao/HNSCC/hecktor2021_train/resampled/CHMR023_ct.nii.gz'),\n",
       "  PosixPath('/mnt/faststorage/jintao/HNSCC/hecktor2021_train/resampled/CHMR023_ptsin.nii.gz'),\n",
       "  PosixPath('/mnt/faststorage/jintao/HNSCC/hecktor2021_train/resampled/CHMR023_gtvt.nii.gz')),\n",
       " (PosixPath('/mnt/faststorage/jintao/HNSCC/hecktor2021_train/resampled/CHGJ089_ct.nii.gz'),\n",
       "  PosixPath('/mnt/faststorage/jintao/HNSCC/hecktor2021_train/resampled/CHGJ089_ptsin.nii.gz'),\n",
       "  PosixPath('/mnt/faststorage/jintao/HNSCC/hecktor2021_train/resampled/CHGJ089_gtvt.nii.gz')),\n",
       " (PosixPath('/mnt/faststorage/jintao/HNSCC/hecktor2021_train/resampled/CHUM039_ct.nii.gz'),\n",
       "  PosixPath('/mnt/faststorage/jintao/HNSCC/hecktor2021_train/resampled/CHUM039_ptsin.nii.gz'),\n",
       "  PosixPath('/mnt/faststorage/jintao/HNSCC/hecktor2021_train/resampled/CHUM039_gtvt.nii.gz')),\n",
       " (PosixPath('/mnt/faststorage/jintao/HNSCC/hecktor2021_train/resampled/CHGJ078_ct.nii.gz'),\n",
       "  PosixPath('/mnt/faststorage/jintao/HNSCC/hecktor2021_train/resampled/CHGJ078_ptsin.nii.gz'),\n",
       "  PosixPath('/mnt/faststorage/jintao/HNSCC/hecktor2021_train/resampled/CHGJ078_gtvt.nii.gz')),\n",
       " (PosixPath('/mnt/faststorage/jintao/HNSCC/hecktor2021_train/resampled/CHUS006_ct.nii.gz'),\n",
       "  PosixPath('/mnt/faststorage/jintao/HNSCC/hecktor2021_train/resampled/CHUS006_ptsin.nii.gz'),\n",
       "  PosixPath('/mnt/faststorage/jintao/HNSCC/hecktor2021_train/resampled/CHUS006_gtvt.nii.gz')),\n",
       " (PosixPath('/mnt/faststorage/jintao/HNSCC/hecktor2021_train/resampled/CHUM015_ct.nii.gz'),\n",
       "  PosixPath('/mnt/faststorage/jintao/HNSCC/hecktor2021_train/resampled/CHUM015_ptsin.nii.gz'),\n",
       "  PosixPath('/mnt/faststorage/jintao/HNSCC/hecktor2021_train/resampled/CHUM015_gtvt.nii.gz')),\n",
       " (PosixPath('/mnt/faststorage/jintao/HNSCC/hecktor2021_train/resampled/CHUS026_ct.nii.gz'),\n",
       "  PosixPath('/mnt/faststorage/jintao/HNSCC/hecktor2021_train/resampled/CHUS026_ptsin.nii.gz'),\n",
       "  PosixPath('/mnt/faststorage/jintao/HNSCC/hecktor2021_train/resampled/CHUS026_gtvt.nii.gz')),\n",
       " (PosixPath('/mnt/faststorage/jintao/HNSCC/hecktor2021_train/resampled/CHGJ083_ct.nii.gz'),\n",
       "  PosixPath('/mnt/faststorage/jintao/HNSCC/hecktor2021_train/resampled/CHGJ083_ptsin.nii.gz'),\n",
       "  PosixPath('/mnt/faststorage/jintao/HNSCC/hecktor2021_train/resampled/CHGJ083_gtvt.nii.gz')),\n",
       " (PosixPath('/mnt/faststorage/jintao/HNSCC/hecktor2021_train/resampled/CHUM002_ct.nii.gz'),\n",
       "  PosixPath('/mnt/faststorage/jintao/HNSCC/hecktor2021_train/resampled/CHUM002_ptsin.nii.gz'),\n",
       "  PosixPath('/mnt/faststorage/jintao/HNSCC/hecktor2021_train/resampled/CHUM002_gtvt.nii.gz')),\n",
       " (PosixPath('/mnt/faststorage/jintao/HNSCC/hecktor2021_train/resampled/CHUS090_ct.nii.gz'),\n",
       "  PosixPath('/mnt/faststorage/jintao/HNSCC/hecktor2021_train/resampled/CHUS090_ptsin.nii.gz'),\n",
       "  PosixPath('/mnt/faststorage/jintao/HNSCC/hecktor2021_train/resampled/CHUS090_gtvt.nii.gz')),\n",
       " (PosixPath('/mnt/faststorage/jintao/HNSCC/hecktor2021_train/resampled/CHGJ028_ct.nii.gz'),\n",
       "  PosixPath('/mnt/faststorage/jintao/HNSCC/hecktor2021_train/resampled/CHGJ028_ptsin.nii.gz'),\n",
       "  PosixPath('/mnt/faststorage/jintao/HNSCC/hecktor2021_train/resampled/CHGJ028_gtvt.nii.gz')),\n",
       " (PosixPath('/mnt/faststorage/jintao/HNSCC/hecktor2021_train/resampled/CHMR016_ct.nii.gz'),\n",
       "  PosixPath('/mnt/faststorage/jintao/HNSCC/hecktor2021_train/resampled/CHMR016_ptsin.nii.gz'),\n",
       "  PosixPath('/mnt/faststorage/jintao/HNSCC/hecktor2021_train/resampled/CHMR016_gtvt.nii.gz')),\n",
       " (PosixPath('/mnt/faststorage/jintao/HNSCC/hecktor2021_train/resampled/CHUM045_ct.nii.gz'),\n",
       "  PosixPath('/mnt/faststorage/jintao/HNSCC/hecktor2021_train/resampled/CHUM045_ptsin.nii.gz'),\n",
       "  PosixPath('/mnt/faststorage/jintao/HNSCC/hecktor2021_train/resampled/CHUM045_gtvt.nii.gz')),\n",
       " (PosixPath('/mnt/faststorage/jintao/HNSCC/hecktor2021_train/resampled/CHUP016_ct.nii.gz'),\n",
       "  PosixPath('/mnt/faststorage/jintao/HNSCC/hecktor2021_train/resampled/CHUP016_ptsin.nii.gz'),\n",
       "  PosixPath('/mnt/faststorage/jintao/HNSCC/hecktor2021_train/resampled/CHUP016_gtvt.nii.gz')),\n",
       " (PosixPath('/mnt/faststorage/jintao/HNSCC/hecktor2021_train/resampled/CHUP011_ct.nii.gz'),\n",
       "  PosixPath('/mnt/faststorage/jintao/HNSCC/hecktor2021_train/resampled/CHUP011_ptsin.nii.gz'),\n",
       "  PosixPath('/mnt/faststorage/jintao/HNSCC/hecktor2021_train/resampled/CHUP011_gtvt.nii.gz')),\n",
       " (PosixPath('/mnt/faststorage/jintao/HNSCC/hecktor2021_train/resampled/CHUS074_ct.nii.gz'),\n",
       "  PosixPath('/mnt/faststorage/jintao/HNSCC/hecktor2021_train/resampled/CHUS074_ptsin.nii.gz'),\n",
       "  PosixPath('/mnt/faststorage/jintao/HNSCC/hecktor2021_train/resampled/CHUS074_gtvt.nii.gz')),\n",
       " (PosixPath('/mnt/faststorage/jintao/HNSCC/hecktor2021_train/resampled/CHUM053_ct.nii.gz'),\n",
       "  PosixPath('/mnt/faststorage/jintao/HNSCC/hecktor2021_train/resampled/CHUM053_ptsin.nii.gz'),\n",
       "  PosixPath('/mnt/faststorage/jintao/HNSCC/hecktor2021_train/resampled/CHUM053_gtvt.nii.gz')),\n",
       " (PosixPath('/mnt/faststorage/jintao/HNSCC/hecktor2021_train/resampled/CHUP020_ct.nii.gz'),\n",
       "  PosixPath('/mnt/faststorage/jintao/HNSCC/hecktor2021_train/resampled/CHUP020_ptsin.nii.gz'),\n",
       "  PosixPath('/mnt/faststorage/jintao/HNSCC/hecktor2021_train/resampled/CHUP020_gtvt.nii.gz')),\n",
       " (PosixPath('/mnt/faststorage/jintao/HNSCC/hecktor2021_train/resampled/CHUS031_ct.nii.gz'),\n",
       "  PosixPath('/mnt/faststorage/jintao/HNSCC/hecktor2021_train/resampled/CHUS031_ptsin.nii.gz'),\n",
       "  PosixPath('/mnt/faststorage/jintao/HNSCC/hecktor2021_train/resampled/CHUS031_gtvt.nii.gz')),\n",
       " (PosixPath('/mnt/faststorage/jintao/HNSCC/hecktor2021_train/resampled/CHUM007_ct.nii.gz'),\n",
       "  PosixPath('/mnt/faststorage/jintao/HNSCC/hecktor2021_train/resampled/CHUM007_ptsin.nii.gz'),\n",
       "  PosixPath('/mnt/faststorage/jintao/HNSCC/hecktor2021_train/resampled/CHUM007_gtvt.nii.gz')),\n",
       " (PosixPath('/mnt/faststorage/jintao/HNSCC/hecktor2021_train/resampled/CHUM016_ct.nii.gz'),\n",
       "  PosixPath('/mnt/faststorage/jintao/HNSCC/hecktor2021_train/resampled/CHUM016_ptsin.nii.gz'),\n",
       "  PosixPath('/mnt/faststorage/jintao/HNSCC/hecktor2021_train/resampled/CHUM016_gtvt.nii.gz')),\n",
       " (PosixPath('/mnt/faststorage/jintao/HNSCC/hecktor2021_train/resampled/CHUS098_ct.nii.gz'),\n",
       "  PosixPath('/mnt/faststorage/jintao/HNSCC/hecktor2021_train/resampled/CHUS098_ptsin.nii.gz'),\n",
       "  PosixPath('/mnt/faststorage/jintao/HNSCC/hecktor2021_train/resampled/CHUS098_gtvt.nii.gz')),\n",
       " (PosixPath('/mnt/faststorage/jintao/HNSCC/hecktor2021_train/resampled/CHUP017_ct.nii.gz'),\n",
       "  PosixPath('/mnt/faststorage/jintao/HNSCC/hecktor2021_train/resampled/CHUP017_ptsin.nii.gz'),\n",
       "  PosixPath('/mnt/faststorage/jintao/HNSCC/hecktor2021_train/resampled/CHUP017_gtvt.nii.gz')),\n",
       " (PosixPath('/mnt/faststorage/jintao/HNSCC/hecktor2021_train/resampled/CHUM018_ct.nii.gz'),\n",
       "  PosixPath('/mnt/faststorage/jintao/HNSCC/hecktor2021_train/resampled/CHUM018_ptsin.nii.gz'),\n",
       "  PosixPath('/mnt/faststorage/jintao/HNSCC/hecktor2021_train/resampled/CHUM018_gtvt.nii.gz')),\n",
       " (PosixPath('/mnt/faststorage/jintao/HNSCC/hecktor2021_train/resampled/CHUP021_ct.nii.gz'),\n",
       "  PosixPath('/mnt/faststorage/jintao/HNSCC/hecktor2021_train/resampled/CHUP021_ptsin.nii.gz'),\n",
       "  PosixPath('/mnt/faststorage/jintao/HNSCC/hecktor2021_train/resampled/CHUP021_gtvt.nii.gz')),\n",
       " (PosixPath('/mnt/faststorage/jintao/HNSCC/hecktor2021_train/resampled/CHUS052_ct.nii.gz'),\n",
       "  PosixPath('/mnt/faststorage/jintao/HNSCC/hecktor2021_train/resampled/CHUS052_ptsin.nii.gz'),\n",
       "  PosixPath('/mnt/faststorage/jintao/HNSCC/hecktor2021_train/resampled/CHUS052_gtvt.nii.gz')),\n",
       " (PosixPath('/mnt/faststorage/jintao/HNSCC/hecktor2021_train/resampled/CHUS005_ct.nii.gz'),\n",
       "  PosixPath('/mnt/faststorage/jintao/HNSCC/hecktor2021_train/resampled/CHUS005_ptsin.nii.gz'),\n",
       "  PosixPath('/mnt/faststorage/jintao/HNSCC/hecktor2021_train/resampled/CHUS005_gtvt.nii.gz')),\n",
       " (PosixPath('/mnt/faststorage/jintao/HNSCC/hecktor2021_train/resampled/CHUS046_ct.nii.gz'),\n",
       "  PosixPath('/mnt/faststorage/jintao/HNSCC/hecktor2021_train/resampled/CHUS046_ptsin.nii.gz'),\n",
       "  PosixPath('/mnt/faststorage/jintao/HNSCC/hecktor2021_train/resampled/CHUS046_gtvt.nii.gz')),\n",
       " (PosixPath('/mnt/faststorage/jintao/HNSCC/hecktor2021_train/resampled/CHUM012_ct.nii.gz'),\n",
       "  PosixPath('/mnt/faststorage/jintao/HNSCC/hecktor2021_train/resampled/CHUM012_ptsin.nii.gz'),\n",
       "  PosixPath('/mnt/faststorage/jintao/HNSCC/hecktor2021_train/resampled/CHUM012_gtvt.nii.gz')),\n",
       " (PosixPath('/mnt/faststorage/jintao/HNSCC/hecktor2021_train/resampled/CHUS040_ct.nii.gz'),\n",
       "  PosixPath('/mnt/faststorage/jintao/HNSCC/hecktor2021_train/resampled/CHUS040_ptsin.nii.gz'),\n",
       "  PosixPath('/mnt/faststorage/jintao/HNSCC/hecktor2021_train/resampled/CHUS040_gtvt.nii.gz')),\n",
       " (PosixPath('/mnt/faststorage/jintao/HNSCC/hecktor2021_train/resampled/CHGJ087_ct.nii.gz'),\n",
       "  PosixPath('/mnt/faststorage/jintao/HNSCC/hecktor2021_train/resampled/CHGJ087_ptsin.nii.gz'),\n",
       "  PosixPath('/mnt/faststorage/jintao/HNSCC/hecktor2021_train/resampled/CHGJ087_gtvt.nii.gz')),\n",
       " (PosixPath('/mnt/faststorage/jintao/HNSCC/hecktor2021_train/resampled/CHGJ057_ct.nii.gz'),\n",
       "  PosixPath('/mnt/faststorage/jintao/HNSCC/hecktor2021_train/resampled/CHGJ057_ptsin.nii.gz'),\n",
       "  PosixPath('/mnt/faststorage/jintao/HNSCC/hecktor2021_train/resampled/CHGJ057_gtvt.nii.gz'))]"
      ]
     },
     "execution_count": 107,
     "metadata": {},
     "output_type": "execute_result"
    }
   ],
   "source": [
    "train_paths"
   ]
  },
  {
   "cell_type": "code",
   "execution_count": 108,
   "metadata": {},
   "outputs": [
    {
     "name": "stdout",
     "output_type": "stream",
     "text": [
      "Total number of patients in TRAIN fold: \t180\n",
      "Total number of patients in VAL fold: \t\t44\n"
     ]
    }
   ],
   "source": [
    "print(f'Total number of patients in TRAIN fold: \\t{len(train_paths)}')\n",
    "print(f'Total number of patients in VAL fold: \\t\\t{len(val_paths)}')"
   ]
  },
  {
   "cell_type": "markdown",
   "metadata": {},
   "source": [
    "In this example we will use only a single CPU, so let's keep just a couple of patients for training and validation."
   ]
  },
  {
   "cell_type": "markdown",
   "metadata": {},
   "source": [
    "** Data Transforms:**"
   ]
  },
  {
   "cell_type": "code",
   "execution_count": 109,
   "metadata": {},
   "outputs": [],
   "source": [
    "\"\"\"train_transforms = transforms.Compose([\n",
    "    transforms.RandomRotation(p=0.5, angle_range=[0, 45]),\n",
    "    transforms.Mirroring(p=0.5),\n",
    "    transforms.NormalizeIntensity(),\n",
    "    transforms.ToTensor()\n",
    "])\n",
    "\"\"\"\n",
    "train_transforms = transforms.Compose([\n",
    "    transforms.RandomRotation(p=0.5, angle_range=[0, 20]),\n",
    "    transforms.NormalizeIntensity(),\n",
    "    transforms.ToTensor()\n",
    "])\n",
    "\n",
    "\n",
    "val_transforms = transforms.Compose([\n",
    "    transforms.NormalizeIntensity(),\n",
    "    transforms.ToTensor()\n",
    "])"
   ]
  },
  {
   "cell_type": "markdown",
   "metadata": {},
   "source": [
    "**Datasets and DataLoaders:**"
   ]
  },
  {
   "cell_type": "code",
   "execution_count": null,
   "metadata": {},
   "outputs": [],
   "source": []
  },
  {
   "cell_type": "code",
   "execution_count": 110,
   "metadata": {},
   "outputs": [],
   "source": [
    "# parameters:\n",
    "\n",
    "train_batch_size = 4\n",
    "val_batch_size = 1\n",
    "num_workers = 32  # for example, use a number of CPU cores\n",
    "\n",
    "# Datasets:\n",
    "train_set = dataset.HecktorDataset(train_paths, PFS_df, transforms=train_transforms)\n",
    "val_set = dataset.HecktorDataset(val_paths, PFS_df, transforms=val_transforms)\n",
    "\n",
    "# Dataloaders:\n",
    "train_loader = DataLoader(train_set, batch_size=train_batch_size, shuffle=True, num_workers=num_workers)\n",
    "val_loader = DataLoader(val_set, batch_size=val_batch_size, shuffle=False, num_workers=num_workers)\n",
    "\n",
    "dataloaders = {\n",
    "    'train': train_loader,\n",
    "    'val': val_loader\n",
    "    \n",
    "}"
   ]
  },
  {
   "cell_type": "markdown",
   "metadata": {},
   "source": [
    "**One training sample:**"
   ]
  },
  {
   "cell_type": "code",
   "execution_count": 111,
   "metadata": {},
   "outputs": [],
   "source": [
    "train_sample = next(iter(train_loader))"
   ]
  },
  {
   "cell_type": "code",
   "execution_count": 112,
   "metadata": {},
   "outputs": [
    {
     "data": {
      "text/plain": [
       "dict_keys(['id', 'input', 'target', 'PFS'])"
      ]
     },
     "execution_count": 112,
     "metadata": {},
     "output_type": "execute_result"
    }
   ],
   "source": [
    "train_sample.keys()"
   ]
  },
  {
   "cell_type": "code",
   "execution_count": 113,
   "metadata": {},
   "outputs": [
    {
     "data": {
      "text/plain": [
       "(tensor([0.2970, 0.3430, 0.1617, 0.4400]),\n",
       " ['CHUS021', 'CHMR005', 'CHUS049', 'CHUM022'])"
      ]
     },
     "execution_count": 113,
     "metadata": {},
     "output_type": "execute_result"
    }
   ],
   "source": [
    "train_sample['PFS'], train_sample['id']"
   ]
  },
  {
   "cell_type": "code",
   "execution_count": 114,
   "metadata": {},
   "outputs": [
    {
     "name": "stdout",
     "output_type": "stream",
     "text": [
      "Patient: \t['CHUS021', 'CHMR005', 'CHUS049', 'CHUM022']\n",
      "Input: \t\ttorch.Size([4, 2, 144, 144, 144])\n",
      "Target: \ttorch.Size([4, 1, 144, 144, 144])\n",
      "Target: \ttorch.Size([4])\n"
     ]
    }
   ],
   "source": [
    "print(f'Patient: \\t{train_sample[\"id\"]}')\n",
    "print(f'Input: \\t\\t{train_sample[\"input\"].size()}')\n",
    "print(f'Target: \\t{train_sample[\"target\"].size()}')\n",
    "print(f'Target: \\t{train_sample[\"PFS\"].size()}')"
   ]
  },
  {
   "cell_type": "code",
   "execution_count": 115,
   "metadata": {},
   "outputs": [
    {
     "data": {
      "image/png": "[encoded data removed]",
      "text/plain": [
       "<Figure size 1008x720 with 4 Axes>"
      ]
     },
     "metadata": {
      "needs_background": "light"
     },
     "output_type": "display_data"
    }
   ],
   "source": [
    "img = train_sample['input'][0]\n",
    "mask = train_sample['target'][0]\n",
    "\n",
    "s = 83\n",
    "\n",
    "fig, axes = plt.subplots(1, 4, figsize=(14, 10))\n",
    "axes[0].imshow(img[0, :, :, s], cmap=plt.cm.Greys_r, interpolation='none')\n",
    "axes[1].imshow(img[1, :, :, s], cmap=plt.cm.Greys_r, interpolation='none')\n",
    "axes[2].imshow(img[1, :, :, s], cmap=plt.cm.Greys_r, interpolation='none')\n",
    "axes[3].imshow(mask[0, :, :, s], cmap=plt.cm.Greys_r, interpolation='none')\n",
    "plt.tight_layout()\n",
    "plt.show()"
   ]
  },
  {
   "cell_type": "markdown",
   "metadata": {},
   "source": [
    "**Training:**"
   ]
  },
  {
   "cell_type": "code",
   "execution_count": 116,
   "metadata": {},
   "outputs": [],
   "source": [
    "# parameters:\n",
    "\n",
    "n_cls = 1  # number of classes\n",
    "lr = 3e-6 # initial learning rate\n",
    "n_epochs = 150  # number of epochs"
   ]
  },
  {
   "cell_type": "code",
   "execution_count": 117,
   "metadata": {
    "scrolled": true
   },
   "outputs": [],
   "source": [
    "from torch import Tensor\n",
    "\n",
    "def CanberraMetric1(y_pred, y):\n",
    "    \n",
    "    errors = torch.abs(y - y_pred) / (torch.abs(y_pred) + torch.abs(y) + 1e-15)\n",
    "\n",
    "    _sum_of_errors = torch.sum(errors)\n",
    "\n",
    "    return _sum_of_errors\n",
    "        \n",
    "def MeanAbsoluteRelativeError(y_pred, y):\n",
    "    return torch.mean(torch.abs(y_pred - y.view_as(y_pred)) / torch.abs(y.view_as(y_pred)))\n",
    "    \n",
    "class CanberraHuberLoss(torch.nn.Module):\n",
    "\n",
    "\n",
    "    def __init__(self) -> None:\n",
    "        super(CanberraHuberLoss, self).__init__()\n",
    "\n",
    "    def forward(self, input: Tensor, target: Tensor) -> Tensor:\n",
    "        return CanberraMetric1(input, target) + 2*F.huber_loss(input, target, reduction='mean', delta=1) \n",
    "    \n",
    "    "
   ]
  },
  {
   "cell_type": "markdown",
   "metadata": {},
   "source": [
    "**The model described in the paper had *n_filters=24* !**"
   ]
  },
  {
   "cell_type": "code",
   "execution_count": 118,
   "metadata": {},
   "outputs": [
    {
     "name": "stdout",
     "output_type": "stream",
     "text": [
      "1163651297\n"
     ]
    }
   ],
   "source": [
    "#from lifelines.utils import concordance_index\n",
    "#from ignite.contrib.metrics.regression import CanberraMetric\n",
    "from livelossplot import PlotLosses\n",
    "\n",
    "model = models.FastSmoothSENormDeepEncoder_supervision_skip_no_drop(in_channels=2, n_cls=1, n_filters=24)\n",
    "#model = models.Encoder(in_channels=3, n_cls=1, n_filters=64)\n",
    "#criterion = torch.nn.MSELoss()\n",
    "#criterion = torch.nn.HuberLoss()\n",
    "#criterion = CanberraMAELoss()\n",
    "criterion = CanberraHuberLoss()\n",
    "optimizer = torch.optim.Adam(model.parameters(), lr=lr, betas=(0.9, 0.99))\n",
    "\n",
    "T_0= 25  # parameter for 'torch.optim.lr_scheduler.CosineAnnealingWarmRestarts'\n",
    "eta_min= 1e-8  # parameter for 'torch.optim.lr_scheduler.CosineAnnealingWarmRestarts'\n",
    "scheduler = torch.optim.lr_scheduler.CosineAnnealingWarmRestarts(optimizer, T_0=T_0, eta_min=eta_min)\n",
    "\n",
    "metric = CanberraMetric1 #MeanAbsoluteRelativeError\n",
    "\n",
    "def get_n_params(model):\n",
    "    pp=0\n",
    "    for p in list(model.parameters()):\n",
    "        nn=1\n",
    "        for s in list(p.size()):\n",
    "            nn = nn*s\n",
    "        pp += nn\n",
    "    return pp\n",
    "print(get_n_params(model))"
   ]
  },
  {
   "cell_type": "code",
   "execution_count": 119,
   "metadata": {},
   "outputs": [],
   "source": [
    "trainer_ = trainer.ModelTrainer(model=model,\n",
    "                                dataloaders=dataloaders,\n",
    "                                criterion=criterion,\n",
    "                                optimizer=optimizer,\n",
    "                                metric=metric,\n",
    "                                scheduler=None,\n",
    "                                num_epochs=n_epochs,\n",
    "                                save_last_model=True,\n",
    "                                livelossplot = True)"
   ]
  },
  {
   "cell_type": "code",
   "execution_count": null,
   "metadata": {
    "scrolled": false
   },
   "outputs": [
    {
     "data": {
      "image/png": "[encoded data removed]",
      "text/plain": [
       "<Figure size 864x576 with 2 Axes>"
      ]
     },
     "metadata": {
      "needs_background": "light"
     },
     "output_type": "display_data"
    },
    {
     "name": "stdout",
     "output_type": "stream",
     "text": [
      "Loss\n",
      "\ttraining         \t (min:    0.155, max:    1.924, cur:    0.165)\n",
      "\tvalidation       \t (min:    0.201, max:    3.910, cur:    0.255)\n",
      "Metric\n",
      "\ttraining         \t (min:    0.151, max:    0.813, cur:    0.156)\n",
      "\tvalidation       \t (min:    0.169, max:    0.812, cur:    0.210)\n",
      "Epoch 148 / 149\n",
      "--------------------\n"
     ]
    }
   ],
   "source": [
    "trainer_.train_model()"
   ]
  },
  {
   "cell_type": "markdown",
   "metadata": {},
   "source": [
    "**After training, we need to define a directory to save all results.**\n",
    "\n",
    "* 'best_model_weights.pt' - weights (state_dict) of the best model received during training on the validation set.\n",
    "* 'last_model_checkpoint.tar' - the last checkpoint (weights of the last model and the optimizer’s state).\n",
    "* 'learning_curves.csv' - learning curves.\n",
    "* 'loss_plot.png', 'metric_plot.png' - plots with the learning curves.\n",
    "* 'summary.csv' - the short summary."
   ]
  },
  {
   "cell_type": "code",
   "execution_count": null,
   "metadata": {},
   "outputs": [],
   "source": [
    "path_to_save_dir = pathlib.Path('/home/sysgen/gitlab/HNSCC-ct-pet-tumor-segmentation/task2_PFS_predict/results_CH_sine/fold-'+str(fold)+'/')"
   ]
  },
  {
   "cell_type": "code",
   "execution_count": null,
   "metadata": {},
   "outputs": [],
   "source": [
    "trainer_.save_results(path_to_save_dir)"
   ]
  },
  {
   "cell_type": "code",
   "execution_count": null,
   "metadata": {},
   "outputs": [],
   "source": [
    "import pandas as pd"
   ]
  },
  {
   "cell_type": "code",
   "execution_count": null,
   "metadata": {},
   "outputs": [],
   "source": [
    "summary = pd.read_csv(path_to_save_dir / 'summary.csv')\n",
    "summary"
   ]
  },
  {
   "cell_type": "code",
   "execution_count": null,
   "metadata": {},
   "outputs": [],
   "source": [
    "#predict.py -p ../config/model_predict.yaml -f 0\n"
   ]
  },
  {
   "cell_type": "code",
   "execution_count": null,
   "metadata": {},
   "outputs": [],
   "source": [
    "#checkpoint = torch.load('filename.pth.tar')\n",
    "#model.load_state_dict(checkpoint['state_dict'])"
   ]
  }
 ],
 "metadata": {
  "kernelspec": {
   "display_name": "Python 3",
   "language": "python",
   "name": "python3"
  },
  "language_info": {
   "codemirror_mode": {
    "name": "ipython",
    "version": 3
   },
   "file_extension": ".py",
   "mimetype": "text/x-python",
   "name": "python",
   "nbconvert_exporter": "python",
   "pygments_lexer": "ipython3",
   "version": "3.9.5"
  }
 },
 "nbformat": 4,
 "nbformat_minor": 2
}
