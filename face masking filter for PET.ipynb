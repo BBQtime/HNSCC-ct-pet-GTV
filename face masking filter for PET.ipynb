{
 "cells": [
  {
   "cell_type": "code",
   "execution_count": 2,
   "id": "dfd46af2",
   "metadata": {},
   "outputs": [],
   "source": [
    "%matplotlib inline\n",
    "import matplotlib.pyplot as plt\n",
    "import SimpleITK as sitk\n",
    "import os\n",
    "import numpy as np\n",
    "path_in = \"/mnt/faststorage/jintao/HNSCC/hecktor2021_train/resampled/\" #change to your train folder\n",
    "\n",
    "\n",
    "\n",
    "file_list = glob.glob(os.path.join(path_in, '*'))\n",
    "\n",
    "patient_names = sorted( list(set(os.path.basename(pt)[:7] for pt in file_list)))\n",
    "print(\"patient names\", patient_names)\n",
    "\n",
    "fpr pt in patient_names:\n",
    "    pt = 'CHGJ007'\n",
    "    #_ct.nii.gz\n",
    "\n",
    "    print(pt)\n",
    "\n",
    "    CT_path = path_in + pt +'_ct.nii.gz'\n",
    "    PET_path = path_in + pt +'_pt.nii.gz'\n",
    "\n",
    "\n",
    "    pet_img = sitk.ReadImage(PET_path)\n",
    "    pet = sitk.GetArrayFromImage(pet_img)\n",
    "\n",
    "    ct_img = sitk.ReadImage(CT_path)\n",
    "    ct = sitk.GetArrayFromImage(ct_img)\n",
    "\n",
    "    fm  = ct > 0\n",
    "\n",
    "    PTfm = pet*fm\n",
    "\n",
    "    out_file = path_in + pt +'_ptfx.nii.gz'\n",
    "\n",
    "    img_corr = sitk.GetImageFromArray(PTfm)\n",
    "    img_corr.CopyInformation(pet_img)\n",
    "    sitk.WriteImage(img_corr, out_file)\n"
   ]
  }
 ],
 "metadata": {
  "kernelspec": {
   "display_name": "Python 3.6.5 64-bit ('tf': conda)",
   "language": "python",
   "name": "python36564bittfconda02adee3b16844dd28441e48c9b34dc62"
  },
  "language_info": {
   "codemirror_mode": {
    "name": "ipython",
    "version": 3
   },
   "file_extension": ".py",
   "mimetype": "text/x-python",
   "name": "python",
   "nbconvert_exporter": "python",
   "pygments_lexer": "ipython3",
   "version": "3.6.5"
  }
 },
 "nbformat": 4,
 "nbformat_minor": 5
}
