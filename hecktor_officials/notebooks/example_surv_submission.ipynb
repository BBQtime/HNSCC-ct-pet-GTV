{
 "cells": [
  {
   "cell_type": "code",
   "execution_count": null,
   "metadata": {},
   "outputs": [],
   "source": [
    "from pathlib import Path\n",
    "\n",
    "import pandas as pd\n",
    "import numpy as np"
   ]
  },
  {
   "cell_type": "code",
   "execution_count": null,
   "metadata": {},
   "outputs": [],
   "source": [
    "clinical_info_df = pd.read_csv(\"../data/hecktor2021_test/hecktor2021_patient_info_testing.csv\")\n",
    "image_folder = Path(\"../data/hecktor2021_test/hecktor_nii\").resolve()"
   ]
  },
  {
   "cell_type": "code",
   "execution_count": null,
   "metadata": {},
   "outputs": [],
   "source": [
    "def dummy_model():\n",
    "    return np.random.uniform()"
   ]
  },
  {
   "cell_type": "code",
   "execution_count": null,
   "metadata": {},
   "outputs": [],
   "source": [
    "# list only patients that have an image\n",
    "patient_list = [f.name[:7] for f in image_folder.rglob(\"*_ct.nii.gz\")]"
   ]
  },
  {
   "cell_type": "code",
   "execution_count": null,
   "metadata": {},
   "outputs": [],
   "source": [
    "# Make your predictions\n",
    "results_df = pd.DataFrame()\n",
    "for p_id in patient_list:\n",
    "    # ... Load image\n",
    "    # ... Extract features\n",
    "    # ... Load clinical info e.g. clinical_info_df.loc[p_id, :]\n",
    "\n",
    "    # Compute prediction\n",
    "    pred = dummy_model()\n",
    "\n",
    "    # IMPORTANT the name of the columns must be 'PatientID'\n",
    "    # and 'Prediction'\n",
    "    results_df = results_df.append(\n",
    "        {\n",
    "            \"PatientID\": p_id,\n",
    "            \"Prediction\": pred\n",
    "        },\n",
    "        ignore_index=True,\n",
    "    )\n",
    "\n",
    "# OPTIONNAL remove unnecessary index\n",
    "results_df = results_df.set_index(\"PatientID\")"
   ]
  },
  {
   "cell_type": "code",
   "execution_count": null,
   "metadata": {},
   "outputs": [],
   "source": [
    "# save predictions\n",
    "results_df.to_csv(\"../data/dummy_survival.csv\")"
   ]
  }
 ],
 "metadata": {
  "interpreter": {
   "hash": "5d0711d90a4399502f1ba40f76c094e33982b9e476f3bb6cf1b54691bc399e28"
  },
  "kernelspec": {
   "display_name": "Python 3",
   "language": "python",
   "name": "python3"
  },
  "language_info": {
   "codemirror_mode": {
    "name": "ipython",
    "version": 3
   },
   "file_extension": ".py",
   "mimetype": "text/x-python",
   "name": "python",
   "nbconvert_exporter": "python",
   "pygments_lexer": "ipython3",
   "version": "3.9.5"
  }
 },
 "nbformat": 4,
 "nbformat_minor": 2
}
