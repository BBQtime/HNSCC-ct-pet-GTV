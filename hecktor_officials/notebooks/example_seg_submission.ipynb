{
 "cells": [
  {
   "cell_type": "markdown",
   "metadata": {},
   "source": [
    "This notebook presents a dummy example of a segmentation pipeline to show what we expect as submission file.\n",
    "We assume that the model is trained on 3D images resampled at 1 $mm^3$ and that the input shape of the model is \n",
    "[batch_size, x_dim, y_dim, z_dim, channel]. The last dimension (channel) is 2 and represents the CT and PT images.\n",
    "The output image is a binary segmentation, and its shape is [batch_size, x_dim, y_dim, z_dim, 1]."
   ]
  },
  {
   "cell_type": "code",
   "execution_count": 97,
   "metadata": {},
   "outputs": [],
   "source": [
    "from pathlib import Path\n",
    "import shutil\n",
    "\n",
    "import numpy as np\n",
    "import pandas as pd\n",
    "import SimpleITK as sitk\n",
    "from tqdm import tqdm"
   ]
  },
  {
   "cell_type": "code",
   "execution_count": 60,
   "metadata": {},
   "outputs": [
    {
     "ename": "FileNotFoundError",
     "evalue": "[Errno 2] No such file or directory: '/home/sysgen/gitlab/HNSCC-ct-pet-tumor-segmentation/hecktor_officials/data/dummy_segmentation_results'",
     "output_type": "error",
     "traceback": [
      "\u001b[0;31m---------------------------------------------------------------------------\u001b[0m",
      "\u001b[0;31mFileNotFoundError\u001b[0m                         Traceback (most recent call last)",
      "\u001b[0;32m<ipython-input-60-815b9bf62a93>\u001b[0m in \u001b[0;36m<module>\u001b[0;34m\u001b[0m\n\u001b[1;32m      1\u001b[0m \u001b[0mtest_folder\u001b[0m \u001b[0;34m=\u001b[0m \u001b[0mPath\u001b[0m\u001b[0;34m(\u001b[0m\u001b[0;34m\"../data/hecktor2021_test/hecktor_nii\"\u001b[0m\u001b[0;34m)\u001b[0m\u001b[0;34m.\u001b[0m\u001b[0mresolve\u001b[0m\u001b[0;34m(\u001b[0m\u001b[0;34m)\u001b[0m\u001b[0;34m\u001b[0m\u001b[0;34m\u001b[0m\u001b[0m\n\u001b[1;32m      2\u001b[0m \u001b[0mresults_folder\u001b[0m \u001b[0;34m=\u001b[0m \u001b[0mPath\u001b[0m\u001b[0;34m(\u001b[0m\u001b[0;34m\"../data/dummy_segmentation_results/\"\u001b[0m\u001b[0;34m)\u001b[0m\u001b[0;34m.\u001b[0m\u001b[0mresolve\u001b[0m\u001b[0;34m(\u001b[0m\u001b[0;34m)\u001b[0m\u001b[0;34m\u001b[0m\u001b[0;34m\u001b[0m\u001b[0m\n\u001b[0;32m----> 3\u001b[0;31m \u001b[0mresults_folder\u001b[0m\u001b[0;34m.\u001b[0m\u001b[0mmkdir\u001b[0m\u001b[0;34m(\u001b[0m\u001b[0mexist_ok\u001b[0m\u001b[0;34m=\u001b[0m\u001b[0;32mTrue\u001b[0m\u001b[0;34m)\u001b[0m\u001b[0;34m\u001b[0m\u001b[0;34m\u001b[0m\u001b[0m\n\u001b[0m\u001b[1;32m      4\u001b[0m \u001b[0;34m\u001b[0m\u001b[0m\n\u001b[1;32m      5\u001b[0m \u001b[0mbbox_df\u001b[0m \u001b[0;34m=\u001b[0m \u001b[0mpd\u001b[0m\u001b[0;34m.\u001b[0m\u001b[0mread_csv\u001b[0m\u001b[0;34m(\u001b[0m\u001b[0;34m\"../data/hecktor2021_test/hecktor2021_bbox_testing.csv\"\u001b[0m\u001b[0;34m)\u001b[0m\u001b[0;34m.\u001b[0m\u001b[0mset_index\u001b[0m\u001b[0;34m(\u001b[0m\u001b[0;34m\"PatientID\"\u001b[0m\u001b[0;34m)\u001b[0m\u001b[0;34m\u001b[0m\u001b[0;34m\u001b[0m\u001b[0m\n",
      "\u001b[0;32m~/anaconda3/envs/pytorch/lib/python3.9/pathlib.py\u001b[0m in \u001b[0;36mmkdir\u001b[0;34m(self, mode, parents, exist_ok)\u001b[0m\n\u001b[1;32m   1311\u001b[0m         \"\"\"\n\u001b[1;32m   1312\u001b[0m         \u001b[0;32mtry\u001b[0m\u001b[0;34m:\u001b[0m\u001b[0;34m\u001b[0m\u001b[0;34m\u001b[0m\u001b[0m\n\u001b[0;32m-> 1313\u001b[0;31m             \u001b[0mself\u001b[0m\u001b[0;34m.\u001b[0m\u001b[0m_accessor\u001b[0m\u001b[0;34m.\u001b[0m\u001b[0mmkdir\u001b[0m\u001b[0;34m(\u001b[0m\u001b[0mself\u001b[0m\u001b[0;34m,\u001b[0m \u001b[0mmode\u001b[0m\u001b[0;34m)\u001b[0m\u001b[0;34m\u001b[0m\u001b[0;34m\u001b[0m\u001b[0m\n\u001b[0m\u001b[1;32m   1314\u001b[0m         \u001b[0;32mexcept\u001b[0m \u001b[0mFileNotFoundError\u001b[0m\u001b[0;34m:\u001b[0m\u001b[0;34m\u001b[0m\u001b[0;34m\u001b[0m\u001b[0m\n\u001b[1;32m   1315\u001b[0m             \u001b[0;32mif\u001b[0m \u001b[0;32mnot\u001b[0m \u001b[0mparents\u001b[0m \u001b[0;32mor\u001b[0m \u001b[0mself\u001b[0m\u001b[0;34m.\u001b[0m\u001b[0mparent\u001b[0m \u001b[0;34m==\u001b[0m \u001b[0mself\u001b[0m\u001b[0;34m:\u001b[0m\u001b[0;34m\u001b[0m\u001b[0;34m\u001b[0m\u001b[0m\n",
      "\u001b[0;31mFileNotFoundError\u001b[0m: [Errno 2] No such file or directory: '/home/sysgen/gitlab/HNSCC-ct-pet-tumor-segmentation/hecktor_officials/data/dummy_segmentation_results'"
     ]
    }
   ],
   "source": [
    "test_folder = Path(\"../data/hecktor2021_test/hecktor_nii\").resolve()\n",
    "results_folder = Path(\"../data/dummy_segmentation_results/\").resolve()\n",
    "results_folder.mkdir(exist_ok=True)\n",
    "\n",
    "bbox_df = pd.read_csv(\"../data/hecktor2021_test/hecktor2021_bbox_testing.csv\").set_index(\"PatientID\")"
   ]
  },
  {
   "cell_type": "code",
   "execution_count": 16,
   "metadata": {},
   "outputs": [],
   "source": [
    "def dummy_model(x):\n",
    "    return np.random.uniform(size=x.shape[:4] + (1, )) "
   ]
  },
  {
   "cell_type": "code",
   "execution_count": 17,
   "metadata": {},
   "outputs": [],
   "source": [
    "patient_list = [f.name[:7] for f in test_folder.rglob(\"*_ct.nii.gz\")]"
   ]
  },
  {
   "cell_type": "code",
   "execution_count": 18,
   "metadata": {},
   "outputs": [],
   "source": [
    "# Instantiating the resampler\n",
    "resampling_spacing = np.array([1.0, 1.0, 1.0])\n",
    "pre_resampler = sitk.ResampleImageFilter()\n",
    "pre_resampler.SetInterpolator(sitk.sitkBSpline)\n",
    "pre_resampler.SetOutputSpacing(resampling_spacing)\n",
    "\n",
    "post_resampler = sitk.ResampleImageFilter()\n",
    "post_resampler.SetInterpolator(sitk.sitkNearestNeighbor)"
   ]
  },
  {
   "cell_type": "code",
   "execution_count": 20,
   "metadata": {},
   "outputs": [
    {
     "name": "stdout",
     "output_type": "stream",
     "text": [
      "(1, 144, 144, 144, 2)\n",
      "(1, 144, 144, 144, 2)\n",
      "(1, 144, 144, 144, 2)\n",
      "(1, 144, 144, 144, 2)\n"
     ]
    },
    {
     "ename": "KeyboardInterrupt",
     "evalue": "",
     "output_type": "error",
     "traceback": [
      "\u001b[0;31m---------------------------------------------------------------------------\u001b[0m",
      "\u001b[0;31mKeyboardInterrupt\u001b[0m                         Traceback (most recent call last)",
      "\u001b[0;32m<ipython-input-20-0ac1bc15d428>\u001b[0m in \u001b[0;36m<module>\u001b[0;34m\u001b[0m\n\u001b[1;32m      6\u001b[0m \u001b[0;32mfor\u001b[0m \u001b[0mp_id\u001b[0m \u001b[0;32min\u001b[0m \u001b[0mpatient_list\u001b[0m\u001b[0;34m:\u001b[0m\u001b[0;34m\u001b[0m\u001b[0;34m\u001b[0m\u001b[0m\n\u001b[1;32m      7\u001b[0m     \u001b[0;31m# loading the images and storing the ct spacing\u001b[0m\u001b[0;34m\u001b[0m\u001b[0;34m\u001b[0m\u001b[0;34m\u001b[0m\u001b[0m\n\u001b[0;32m----> 8\u001b[0;31m     \u001b[0mimage_ct\u001b[0m \u001b[0;34m=\u001b[0m \u001b[0msitk\u001b[0m\u001b[0;34m.\u001b[0m\u001b[0mReadImage\u001b[0m\u001b[0;34m(\u001b[0m\u001b[0mstr\u001b[0m\u001b[0;34m(\u001b[0m\u001b[0mtest_folder\u001b[0m \u001b[0;34m/\u001b[0m \u001b[0;34m(\u001b[0m\u001b[0mp_id\u001b[0m \u001b[0;34m+\u001b[0m \u001b[0;34m\"_ct.nii.gz\"\u001b[0m\u001b[0;34m)\u001b[0m\u001b[0;34m)\u001b[0m\u001b[0;34m)\u001b[0m\u001b[0;34m\u001b[0m\u001b[0;34m\u001b[0m\u001b[0m\n\u001b[0m\u001b[1;32m      9\u001b[0m     \u001b[0mimage_pt\u001b[0m \u001b[0;34m=\u001b[0m \u001b[0msitk\u001b[0m\u001b[0;34m.\u001b[0m\u001b[0mReadImage\u001b[0m\u001b[0;34m(\u001b[0m\u001b[0mstr\u001b[0m\u001b[0;34m(\u001b[0m\u001b[0mtest_folder\u001b[0m \u001b[0;34m/\u001b[0m \u001b[0;34m(\u001b[0m\u001b[0mp_id\u001b[0m \u001b[0;34m+\u001b[0m \u001b[0;34m\"_pt.nii.gz\"\u001b[0m\u001b[0;34m)\u001b[0m\u001b[0;34m)\u001b[0m\u001b[0;34m)\u001b[0m\u001b[0;34m\u001b[0m\u001b[0;34m\u001b[0m\u001b[0m\n\u001b[1;32m     10\u001b[0m     \u001b[0mspacing_ct\u001b[0m \u001b[0;34m=\u001b[0m \u001b[0mimage_ct\u001b[0m\u001b[0;34m.\u001b[0m\u001b[0mGetSpacing\u001b[0m\u001b[0;34m(\u001b[0m\u001b[0;34m)\u001b[0m\u001b[0;34m\u001b[0m\u001b[0;34m\u001b[0m\u001b[0m\n",
      "\u001b[0;32m~/anaconda3/envs/pytorch/lib/python3.9/site-packages/SimpleITK/extra.py\u001b[0m in \u001b[0;36mReadImage\u001b[0;34m(fileName, outputPixelType, imageIO)\u001b[0m\n\u001b[1;32m    344\u001b[0m     \u001b[0mreader\u001b[0m\u001b[0;34m.\u001b[0m\u001b[0mSetImageIO\u001b[0m\u001b[0;34m(\u001b[0m\u001b[0mimageIO\u001b[0m\u001b[0;34m)\u001b[0m\u001b[0;34m\u001b[0m\u001b[0;34m\u001b[0m\u001b[0m\n\u001b[1;32m    345\u001b[0m     \u001b[0mreader\u001b[0m\u001b[0;34m.\u001b[0m\u001b[0mSetOutputPixelType\u001b[0m\u001b[0;34m(\u001b[0m\u001b[0moutputPixelType\u001b[0m\u001b[0;34m)\u001b[0m\u001b[0;34m\u001b[0m\u001b[0;34m\u001b[0m\u001b[0m\n\u001b[0;32m--> 346\u001b[0;31m     \u001b[0;32mreturn\u001b[0m \u001b[0mreader\u001b[0m\u001b[0;34m.\u001b[0m\u001b[0mExecute\u001b[0m\u001b[0;34m(\u001b[0m\u001b[0;34m)\u001b[0m\u001b[0;34m\u001b[0m\u001b[0;34m\u001b[0m\u001b[0m\n\u001b[0m\u001b[1;32m    347\u001b[0m \u001b[0;34m\u001b[0m\u001b[0m\n\u001b[1;32m    348\u001b[0m \u001b[0;34m\u001b[0m\u001b[0m\n",
      "\u001b[0;32m~/anaconda3/envs/pytorch/lib/python3.9/site-packages/SimpleITK/SimpleITK.py\u001b[0m in \u001b[0;36mExecute\u001b[0;34m(self)\u001b[0m\n\u001b[1;32m   5777\u001b[0m     \u001b[0;32mdef\u001b[0m \u001b[0mExecute\u001b[0m\u001b[0;34m(\u001b[0m\u001b[0mself\u001b[0m\u001b[0;34m)\u001b[0m\u001b[0;34m:\u001b[0m\u001b[0;34m\u001b[0m\u001b[0;34m\u001b[0m\u001b[0m\n\u001b[1;32m   5778\u001b[0m         \u001b[0;34mr\"\"\"Execute(ImageFileReader self) -> Image\"\"\"\u001b[0m\u001b[0;34m\u001b[0m\u001b[0;34m\u001b[0m\u001b[0m\n\u001b[0;32m-> 5779\u001b[0;31m         \u001b[0;32mreturn\u001b[0m \u001b[0m_SimpleITK\u001b[0m\u001b[0;34m.\u001b[0m\u001b[0mImageFileReader_Execute\u001b[0m\u001b[0;34m(\u001b[0m\u001b[0mself\u001b[0m\u001b[0;34m)\u001b[0m\u001b[0;34m\u001b[0m\u001b[0;34m\u001b[0m\u001b[0m\n\u001b[0m\u001b[1;32m   5780\u001b[0m \u001b[0;34m\u001b[0m\u001b[0m\n\u001b[1;32m   5781\u001b[0m     \u001b[0;32mdef\u001b[0m \u001b[0mReadImageInformation\u001b[0m\u001b[0;34m(\u001b[0m\u001b[0mself\u001b[0m\u001b[0;34m)\u001b[0m\u001b[0;34m:\u001b[0m\u001b[0;34m\u001b[0m\u001b[0;34m\u001b[0m\u001b[0m\n",
      "\u001b[0;31mKeyboardInterrupt\u001b[0m: "
     ]
    }
   ],
   "source": [
    "for p_id in tqdm(patient_list):\n",
    "    # loading the images and storing the ct spacing\n",
    "    image_ct = sitk.ReadImage(str(test_folder / (p_id + \"_ct.nii.gz\")))\n",
    "    image_pt = sitk.ReadImage(str(test_folder / (p_id + \"_pt.nii.gz\")))\n",
    "    spacing_ct = image_ct.GetSpacing()\n",
    "\n",
    "    # getting the bounding box\n",
    "    bb = np.squeeze(\n",
    "        np.array([\n",
    "            bbox_df.loc[p_id, [\"x1\", \"y1\", \"z1\", \"x2\", \"y2\", \"z2\"]],\n",
    "        ]))\n",
    "\n",
    "    # resampling the images\n",
    "    resampled_size = np.round(\n",
    "        (bb[3:] - bb[:3]) / resampling_spacing).astype(int)\n",
    "    pre_resampler.SetOutputOrigin(bb[:3])\n",
    "    pre_resampler.SetSize([int(k)\n",
    "                           for k in resampled_size])  # sitk requires this\n",
    "    image_ct = pre_resampler.Execute(image_ct)\n",
    "    image_pt = pre_resampler.Execute(image_pt)\n",
    "\n",
    "    # sitk to numpy, sitk stores images with [dim_z, dim_y, dim_x]\n",
    "    array_ct = np.transpose(sitk.GetArrayFromImage(image_ct), (2, 1, 0))\n",
    "    array_pt = np.transpose(sitk.GetArrayFromImage(image_pt), (2, 1, 0))\n",
    "\n",
    "    # ... apply your preprocessing here\n",
    "\n",
    "    x = np.stack([array_ct, array_pt], axis=-1)\n",
    "    x = x[np.newaxis, ...]  # adding batch dimension\n",
    "    segmentation = dummy_model(x)[0, :, :, :, 0]\n",
    "\n",
    "    # do not forget to threshold your output\n",
    "    segmentation = (segmentation < 0.5).astype(np.uint8)\n",
    "\n",
    "    # numpy to sitk\n",
    "    image_segmentation = sitk.GetImageFromArray(\n",
    "        np.transpose(segmentation, (2, 1, 0)))\n",
    "\n",
    "    image_segmentation.SetOrigin(bb[:3])\n",
    "    image_segmentation.SetSpacing(resampling_spacing)\n",
    "\n",
    "    # If you do not resample to the orginal CT resolution,\n",
    "    # the following nearest neighbor resampling will be applied to your submission.\n",
    "    # We encourage you to try other resampling methods that are more suited to\n",
    "    # binary mask.\n",
    "    final_size = np.round((bb[3:] - bb[:3]) / spacing_ct).astype(int)\n",
    "    post_resampler.SetOutputSpacing(spacing_ct)\n",
    "    post_resampler.SetOutputOrigin(bb[:3])\n",
    "    post_resampler.SetSize([int(k) for k in final_size])  # sitk requires this\n",
    "\n",
    "    image_segmentation = post_resampler.Execute(image_segmentation)\n",
    "\n",
    "    # Saving the prediction\n",
    "    sitk.WriteImage(\n",
    "        image_segmentation,\n",
    "        str(results_folder / (p_id + \".nii.gz\")),\n",
    "    )\n"
   ]
  },
  {
   "cell_type": "code",
   "execution_count": null,
   "metadata": {},
   "outputs": [],
   "source": [
    "# zip the folder and it is ready for submission\n",
    "shutil.make_archive(\"../data/dummy_segmentation_submission\", \"zip\", results_folder)"
   ]
  },
  {
   "cell_type": "code",
   "execution_count": null,
   "metadata": {},
   "outputs": [],
   "source": [
    "np.unique(image_segmentation)"
   ]
  },
  {
   "cell_type": "markdown",
   "metadata": {},
   "source": [
    "## my code here:"
   ]
  },
  {
   "cell_type": "code",
   "execution_count": 89,
   "metadata": {},
   "outputs": [],
   "source": [
    "from pathlib import Path\n",
    "import shutil\n",
    "import numpy as np\n",
    "import pandas as pd\n",
    "import SimpleITK as sitk\n",
    "from tqdm import tqdm\n",
    "\n",
    "test_folder = Path(\"/mnt/faststorage/jintao/HNSCC/hecktor2021_test/hecktor_nii/\").resolve()\n",
    "pred_folder = Path(\"/mnt/faststorage/jintao/nnUNet/nnUNet_results/nnUNet/3d_fullres/Task221_hecktor_baseline/nnUNetTrainerV2__nnUNetPlansv2.1/test\").resolve()\n",
    "results_folder = Path(\"/mnt/faststorage/jintao/nnUNet/nnUNet_results/nnUNet/3d_fullres/Task221_hecktor_baseline/nnUNetTrainerV2__nnUNetPlansv2.1/test_nn/\").resolve()\n",
    "#results_folder.mkdir(exist_ok=True)\n",
    "\n",
    "bbox_df = pd.read_csv(\"/mnt/faststorage/jintao/HNSCC/hecktor2021_test/hecktor2021_bbox_testing.csv\").set_index(\"PatientID\")\n",
    "patient_list = [f.name[:7] for f in test_folder.rglob(\"*_ct.nii.gz\")]"
   ]
  },
  {
   "cell_type": "code",
   "execution_count": 101,
   "metadata": {},
   "outputs": [
    {
     "name": "stderr",
     "output_type": "stream",
     "text": [
      "100%|██████████| 224/224 [04:48<00:00,  1.29s/it]\n"
     ]
    }
   ],
   "source": [
    "from pathlib import Path\n",
    "import shutil\n",
    "import numpy as np\n",
    "import pandas as pd\n",
    "import SimpleITK as sitk\n",
    "from tqdm import tqdm\n",
    "\n",
    "test_folder = Path(\"/mnt/faststorage/jintao/HNSCC/hecktor2021_train/hecktor_nii/\").resolve()\n",
    "bbox_df = pd.read_csv(\"/mnt/faststorage/jintao/HNSCC/hecktor2021_train/hecktor2021_bbox_training.csv\").set_index(\"PatientID\")\n",
    "pred_folder = Path(\"/mnt/faststorage/jintao/nnUNet/nnUNet_results/nnUNet/3d_fullres/Task226_hecktor_sine/nnUNetTrainerV2__nnUNetPlansv2.1/cv_niftis_postprocessed/\").resolve()\n",
    "results_folder = Path(\"/mnt/faststorage/jintao/nnUNet/nnUNet_results/nnUNet/3d_fullres/Task226_hecktor_sine/nnUNetTrainerV2__nnUNetPlansv2.1/cv_nn/\").resolve()\n",
    "#results_folder.mkdir(exist_ok=True)\n",
    "\n",
    "patient_list = [f.name[:7] for f in test_folder.rglob(\"*_ct.nii.gz\")]\n",
    "resampling_spacing = np.array([1.0, 1.0, 1.0])\n",
    "post_resampler = sitk.ResampleImageFilter()\n",
    "post_resampler.SetInterpolator(sitk.sitkNearestNeighbor)\n",
    "#post_resampler.SetInterpolator(sitk.sitkBSpline)\n",
    "\n",
    "dlfilter = sitk.BinaryDilateImageFilter()\n",
    "dlfilter.SetKernelRadius(1)\n",
    "\n",
    "\n",
    "patient_list = sorted(patient_list)\n",
    "for p_id in tqdm(patient_list):\n",
    "    # loading the images and storing the ct spacing\n",
    "    image_ct = sitk.ReadImage(str(test_folder / (p_id + \"_ct.nii.gz\")))\n",
    "    image_pt = sitk.ReadImage(str(test_folder / (p_id + \"_pt.nii.gz\")))\n",
    "    spacing_ct = image_ct.GetSpacing()\n",
    "    #final_size = image_ct.GetSize()\n",
    "    # getting the bounding box\n",
    "    bb = np.squeeze(\n",
    "        np.array([\n",
    "            bbox_df.loc[p_id, [\"x1\", \"y1\", \"z1\", \"x2\", \"y2\", \"z2\"]],\n",
    "        ]))\n",
    "    #bb_df = bbox_df\n",
    "    #bb = np.array([\n",
    "    #    bb_df.loc[p_id, 'x1'], bb_df.loc[p_id, 'y1'], bb_df.loc[p_id, 'z1'],\n",
    "    #    bb_df.loc[p_id, 'x2'], bb_df.loc[p_id, 'y2'], bb_df.loc[p_id, 'z2']\n",
    "    #])\n",
    "\n",
    "    # numpy to sitk\n",
    "    #image_segmentation = sitk.GetArrayFromImage(sitk.ReadImage(str(pred_folder / (p_id + \".nii.gz\"))))\n",
    "    \n",
    "    #image_segmentation = sitk.GetImageFromArray(((np.transpose(image_segmentation, (2, 1, 0)))<0.5).astype(np.uint8))\n",
    "\n",
    "    image_segmentation = sitk.ReadImage(str(pred_folder / (p_id + \".nii.gz\")))\n",
    "    #image_segmentation = dlfilter.Execute(image_segmentation)\n",
    "    #image_segmentation.SetOrigin(bb[:3])\n",
    "    #image_segmentation.SetSpacing(resampling_spacing)\n",
    "\n",
    "    # If you do not resample to the orginal CT resolution,\n",
    "    # the following nearest neighbor resampling will be applied to your submission.\n",
    "    # We encourage you to try other resampling methods that are more suited to\n",
    "    # binary mask.\n",
    "    final_size = np.round((bb[3:] - bb[:3]) / spacing_ct).astype(int)\n",
    "    #post_resampler.SetOutputDirection([1, 0, 0, 0, 1, 0, 0, 0, 1])     \n",
    "    #image_ct.GetDirection()\n",
    "    post_resampler.SetOutputDirection(image_ct.GetDirection())  \n",
    "    post_resampler.SetOutputSpacing(spacing_ct)\n",
    "    post_resampler.SetOutputOrigin(bb[:3])\n",
    "    post_resampler.SetSize([int(k) for k in final_size])  # sitk requires this\n",
    "    \n",
    "    #post_resampler.SetOutputSpacing(spacing_ct)\n",
    "    #post_resampler.SetOutputOrigin(image_ct.GetOrigin())\n",
    "    #post_resampler.SetSize([int(k) for k in final_size])  # sitk requires this\n",
    "\n",
    "    image_segmentation = post_resampler.Execute(image_segmentation)\n",
    "\n",
    "    # Saving the prediction\n",
    "    sitk.WriteImage(\n",
    "        image_segmentation,\n",
    "        str(results_folder / (p_id + \".nii.gz\")),\n",
    "    )\n"
   ]
  },
  {
   "cell_type": "code",
   "execution_count": null,
   "metadata": {},
   "outputs": [],
   "source": []
  }
 ],
 "metadata": {
  "interpreter": {
   "hash": "5d0711d90a4399502f1ba40f76c094e33982b9e476f3bb6cf1b54691bc399e28"
  },
  "kernelspec": {
   "display_name": "Python 3",
   "language": "python",
   "name": "python3"
  },
  "language_info": {
   "codemirror_mode": {
    "name": "ipython",
    "version": 3
   },
   "file_extension": ".py",
   "mimetype": "text/x-python",
   "name": "python",
   "nbconvert_exporter": "python",
   "pygments_lexer": "ipython3",
   "version": "3.9.5"
  }
 },
 "nbformat": 4,
 "nbformat_minor": 2
}
